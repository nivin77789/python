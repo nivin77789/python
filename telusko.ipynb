{
 "cells": [
  {
   "cell_type": "markdown",
   "metadata": {},
   "source": [
    "Class and objects"
   ]
  },
  {
   "cell_type": "code",
   "execution_count": 2,
   "metadata": {},
   "outputs": [
    {
     "name": "stdout",
     "output_type": "stream",
     "text": [
      "Hi\n"
     ]
    }
   ],
   "source": [
    "class Comp:\n",
    "    def compu(self):\n",
    "        print(\"Hi\")\n",
    "c1=Comp()\n",
    "c1.compu()        "
   ]
  },
  {
   "cell_type": "code",
   "execution_count": 8,
   "metadata": {},
   "outputs": [
    {
     "name": "stdout",
     "output_type": "stream",
     "text": [
      "init\n",
      "1 and 8\n"
     ]
    }
   ],
   "source": [
    "class A:\n",
    "    def __init__(self,i,j):\n",
    "        self.i=i\n",
    "        self.j=j\n",
    "        print(\"init\")\n",
    "    def ap(self):\n",
    "        print(\"{} and {}\".format(self.i,self.j))    \n",
    "        \n",
    "a1=A(1,8)\n",
    "a1.ap()   "
   ]
  }
 ],
 "metadata": {
  "kernelspec": {
   "display_name": "base",
   "language": "python",
   "name": "python3"
  },
  "language_info": {
   "codemirror_mode": {
    "name": "ipython",
    "version": 3
   },
   "file_extension": ".py",
   "mimetype": "text/x-python",
   "name": "python",
   "nbconvert_exporter": "python",
   "pygments_lexer": "ipython3",
   "version": "3.10.14"
  }
 },
 "nbformat": 4,
 "nbformat_minor": 2
}
