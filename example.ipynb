{
 "cells": [
  {
   "cell_type": "code",
   "execution_count": 12,
   "metadata": {},
   "outputs": [
    {
     "name": "stdout",
     "output_type": "stream",
     "text": [
      "{'a': 4, 'b': 4, 'c': 1}\n"
     ]
    }
   ],
   "source": [
    "a=\"aaabbcabb\"\n",
    "\n",
    "b=[]\n",
    "for i in a:\n",
    "    b.append(i)\n",
    "c=set(b)    \n",
    "dit={}\n",
    "for i, key in enumerate(b):\n",
    "    dit[key] = b.count(key)\n",
    "print(dit)"
   ]
  },
  {
   "cell_type": "code",
   "execution_count": 31,
   "metadata": {},
   "outputs": [
    {
     "name": "stdout",
     "output_type": "stream",
     "text": [
      "a3b2c1a1b2\n"
     ]
    }
   ],
   "source": [
    "a=\"aaabbcabb\"\n",
    "# outpu=\"a3b2c1a1b2\"\n",
    "b=[]\n",
    "count=1\n",
    "string=''\n",
    "for i in range(len(a)):\n",
    "    if i==len(a)-1:\n",
    "        b.append(a[i])\n",
    "        b.append(str(count))\n",
    "    else:\n",
    "        if a[i]==a[i+1]:\n",
    "            count+=1\n",
    "        else:\n",
    "            b.append(a[i])\n",
    "            b.append(str(count))\n",
    "            count=1\n",
    "         \n",
    "      \n",
    "print(string.join(b))    \n",
    "    "
   ]
  },
  {
   "cell_type": "code",
   "execution_count": 42,
   "metadata": {},
   "outputs": [
    {
     "name": "stdout",
     "output_type": "stream",
     "text": [
      "5\n"
     ]
    }
   ],
   "source": [
    "vowels = \"aeiouAEIOU\"\n",
    "string = \"Hello, World! nivin\"\n",
    "print(sum(1 for a in string if a in vowels))"
   ]
  },
  {
   "cell_type": "code",
   "execution_count": 33,
   "metadata": {},
   "outputs": [
    {
     "name": "stdout",
     "output_type": "stream",
     "text": [
      "5 4\n"
     ]
    }
   ],
   "source": [
    "a=[5,3,4,1,2]\n",
    "t=9\n",
    "for i in a:\n",
    "    if t-i in a:\n",
    "        print(i,t-i)\n",
    "        break\n",
    "    \n",
    "    \n",
    "            "
   ]
  },
  {
   "cell_type": "code",
   "execution_count": 51,
   "metadata": {},
   "outputs": [
    {
     "name": "stdout",
     "output_type": "stream",
     "text": [
      "[2, 3, 5, 7, 11, 13, 17, 19, 23, 29, 31, 37, 41, 43, 47]\n"
     ]
    }
   ],
   "source": [
    "prime_numbers = [num for num in range(2, 50) if all(num % i != 0 for i in range(2, num))]\n",
    "print(prime_numbers)\n"
   ]
  },
  {
   "cell_type": "code",
   "execution_count": 46,
   "metadata": {},
   "outputs": [
    {
     "name": "stdout",
     "output_type": "stream",
     "text": [
      "[2, 2, 2, 3, 3, 3, 3, 3, 4, 4]\n"
     ]
    }
   ],
   "source": [
    "print([(int(num**0.5))+1 for num in range(1,11) ])"
   ]
  },
  {
   "cell_type": "code",
   "execution_count": 57,
   "metadata": {},
   "outputs": [
    {
     "name": "stdout",
     "output_type": "stream",
     "text": [
      "\n",
      "* \n",
      "* * \n",
      "* * * \n",
      "* * * * \n",
      "* * * * * \n"
     ]
    }
   ],
   "source": [
    "for i in range(6):\n",
    "    for j in range(i):\n",
    "        print(\"*\",end=' ')\n",
    "    print()    "
   ]
  },
  {
   "cell_type": "code",
   "execution_count": 59,
   "metadata": {},
   "outputs": [
    {
     "name": "stdout",
     "output_type": "stream",
     "text": [
      "10 20\n",
      "20 10\n"
     ]
    }
   ],
   "source": [
    "a=10\n",
    "b=20\n",
    "print(a,b)\n",
    "a=a+b\n",
    "b=a-b\n",
    "a=a-b\n",
    "print(a,b)"
   ]
  },
  {
   "cell_type": "code",
   "execution_count": 86,
   "metadata": {},
   "outputs": [
    {
     "name": "stdout",
     "output_type": "stream",
     "text": [
      "h2m1l3b2i5\n"
     ]
    }
   ],
   "source": [
    "a=\"hhmlllbbiiiii\"\n",
    "# outpu=\"a3b2c1a1b2\"\n",
    "st=''\n",
    "count=1\n",
    "b=[]\n",
    "for i in range(len(a)):\n",
    "    if i==len(a)-1:\n",
    "        b.append(a[i])\n",
    "        b.append(str(count))\n",
    "    else:\n",
    "        if a[i]==a[i+1]:\n",
    "            count+=1\n",
    "        else:\n",
    "            b.append(a[i])\n",
    "            b.append(str(count))\n",
    "            count=1\n",
    "print(st.join(b))            "
   ]
  },
  {
   "cell_type": "code",
   "execution_count": 103,
   "metadata": {},
   "outputs": [
    {
     "name": "stdout",
     "output_type": "stream",
     "text": [
      "Not prime\n"
     ]
    }
   ],
   "source": [
    "def check_prime(a):\n",
    "    for i in range(2,a):\n",
    "        if a%i==0:\n",
    "            print(\"Not prime\")\n",
    "            return\n",
    "    print(\"prime\")\n",
    "              \n",
    "              \n",
    "check_prime(6)            "
   ]
  },
  {
   "cell_type": "code",
   "execution_count": 106,
   "metadata": {},
   "outputs": [
    {
     "name": "stdout",
     "output_type": "stream",
     "text": [
      "720\n"
     ]
    }
   ],
   "source": [
    "def fact(n):\n",
    "    if n==0:\n",
    "        return 1\n",
    "    return n*fact(n-1)\n",
    "print(fact(6))"
   ]
  },
  {
   "cell_type": "code",
   "execution_count": 111,
   "metadata": {},
   "outputs": [
    {
     "name": "stdout",
     "output_type": "stream",
     "text": [
      "[1, 4, 9, 16, 25, 36, 49, 64, 81, 100]\n"
     ]
    }
   ],
   "source": [
    "num=[n for n in range(1,11)]\n",
    "even=[i**2 for i in num]\n",
    "print(even)"
   ]
  },
  {
   "cell_type": "code",
   "execution_count": 114,
   "metadata": {},
   "outputs": [
    {
     "name": "stdout",
     "output_type": "stream",
     "text": [
      "{1: 'a', 2: 'b', 3: 'c', 4: 'd', 5: 'e', 7: 'f'}\n"
     ]
    }
   ],
   "source": [
    "a=[1,2,3,4,5,7]\n",
    "b=['a','b','c','d','e','f']\n",
    "c={a:b for a,b in zip(a,b)}\n",
    "print(c)"
   ]
  },
  {
   "cell_type": "code",
   "execution_count": 129,
   "metadata": {},
   "outputs": [
    {
     "ename": "IndexError",
     "evalue": "list assignment index out of range",
     "output_type": "error",
     "traceback": [
      "\u001b[0;31m---------------------------------------------------------------------------\u001b[0m",
      "\u001b[0;31mIndexError\u001b[0m                                Traceback (most recent call last)",
      "Cell \u001b[0;32mIn[129], line 5\u001b[0m\n\u001b[1;32m      3\u001b[0m b\u001b[38;5;241m=\u001b[39m[]\n\u001b[1;32m      4\u001b[0m \u001b[38;5;28;01mfor\u001b[39;00m i \u001b[38;5;129;01min\u001b[39;00m a:\n\u001b[0;32m----> 5\u001b[0m     b[\u001b[38;5;28mint\u001b[39m(i[\u001b[38;5;241m-\u001b[39m\u001b[38;5;241m1\u001b[39m])]\u001b[38;5;241m=\u001b[39mi \n\u001b[1;32m      6\u001b[0m \u001b[38;5;28mprint\u001b[39m(\u001b[38;5;124m'\u001b[39m\u001b[38;5;124m \u001b[39m\u001b[38;5;124m'\u001b[39m\u001b[38;5;241m.\u001b[39mjoin(b))\n",
      "\u001b[0;31mIndexError\u001b[0m: list assignment index out of range"
     ]
    }
   ],
   "source": [
    "s='nivin4 is3 my1 name2'\n",
    "a=s.split()\n",
    "b=[]\n",
    "for i in a:\n",
    "    int(i[-1])==i \n",
    "print(' '.join(b))\n",
    "        "
   ]
  }
 ],
 "metadata": {
  "kernelspec": {
   "display_name": "base",
   "language": "python",
   "name": "python3"
  },
  "language_info": {
   "codemirror_mode": {
    "name": "ipython",
    "version": 3
   },
   "file_extension": ".py",
   "mimetype": "text/x-python",
   "name": "python",
   "nbconvert_exporter": "python",
   "pygments_lexer": "ipython3",
   "version": "3.10.14"
  }
 },
 "nbformat": 4,
 "nbformat_minor": 2
}
