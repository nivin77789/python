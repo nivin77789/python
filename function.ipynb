{
 "cells": [
  {
   "cell_type": "markdown",
   "metadata": {},
   "source": [
    "Python function"
   ]
  },
  {
   "cell_type": "code",
   "execution_count": 12,
   "metadata": {},
   "outputs": [
    {
     "name": "stdout",
     "output_type": "stream",
     "text": [
      "sum in num  5\n",
      "sum is string : 5\n",
      "15\n",
      "this function is for sum\n"
     ]
    }
   ],
   "source": [
    "#syntax\n",
    "def sum(num):\n",
    "    \"\"\"this function is for sum\"\"\"\n",
    "    print(\"sum in num \",num)\n",
    "    print(\"sum is string : \"+str(num))\n",
    "    return num+10\n",
    "n=sum(5)\n",
    "print(n)\n",
    "print(sum.__doc__)    "
   ]
  },
  {
   "cell_type": "markdown",
   "metadata": {},
   "source": [
    "#types of functions\n",
    "#built-i"
   ]
  }
 ],
 "metadata": {
  "kernelspec": {
   "display_name": "base",
   "language": "python",
   "name": "python3"
  },
  "language_info": {
   "codemirror_mode": {
    "name": "ipython",
    "version": 3
   },
   "file_extension": ".py",
   "mimetype": "text/x-python",
   "name": "python",
   "nbconvert_exporter": "python",
   "pygments_lexer": "ipython3",
   "version": "3.10.9"
  }
 },
 "nbformat": 4,
 "nbformat_minor": 2
}
