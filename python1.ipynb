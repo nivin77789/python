{
 "cells": [
  {
   "cell_type": "code",
   "execution_count": 54,
   "metadata": {},
   "outputs": [
    {
     "name": "stdout",
     "output_type": "stream",
     "text": [
      "Hello World\n"
     ]
    }
   ],
   "source": [
    "print(\"Hello World\")"
   ]
  },
  {
   "cell_type": "markdown",
   "metadata": {},
   "source": [
    "Indentation\n",
    "(Four Space for indentation)"
   ]
  },
  {
   "cell_type": "code",
   "execution_count": 55,
   "metadata": {},
   "outputs": [
    {
     "name": "stdout",
     "output_type": "stream",
     "text": [
      "0\n",
      "1\n",
      "2\n",
      "3\n",
      "4\n",
      "5\n",
      "6\n",
      "7\n",
      "8\n",
      "9\n"
     ]
    }
   ],
   "source": [
    "for i in range(10):\n",
    "    print(i)"
   ]
  },
  {
   "cell_type": "markdown",
   "metadata": {},
   "source": [
    "Multiple Line Statement use () or \\"
   ]
  },
  {
   "cell_type": "code",
   "execution_count": 56,
   "metadata": {},
   "outputs": [
    {
     "name": "stdout",
     "output_type": "stream",
     "text": [
      "28\n"
     ]
    }
   ],
   "source": [
    "a=1+2+ \\\n",
    "    3+4+5+\\\n",
    "        6+7\n",
    "print(a)        "
   ]
  },
  {
   "cell_type": "code",
   "execution_count": 57,
   "metadata": {},
   "outputs": [
    {
     "name": "stdout",
     "output_type": "stream",
     "text": [
      "28\n"
     ]
    }
   ],
   "source": [
    "a=(1+2+\n",
    "   3+4+5\n",
    "   +6+7)\n",
    "print(a)"
   ]
  },
  {
   "cell_type": "markdown",
   "metadata": {},
   "source": [
    "Variables and assignment"
   ]
  },
  {
   "cell_type": "code",
   "execution_count": 58,
   "metadata": {},
   "outputs": [
    {
     "name": "stdout",
     "output_type": "stream",
     "text": [
      "100\n",
      "hello\n",
      "3.5\n"
     ]
    }
   ],
   "source": [
    "a=10\n",
    "b=12.3\n",
    "c=\"hello\"\n",
    "#in single line\n",
    "j,k,l=2,3.5,\"hi\"\n",
    "#same value to differrent variables\n",
    "x=y=z=100\n",
    "print(y)\n",
    "print(c)\n",
    "print(k)"
   ]
  },
  {
   "cell_type": "markdown",
   "metadata": {},
   "source": [
    "Storage or address of a variable"
   ]
  },
  {
   "cell_type": "code",
   "execution_count": 59,
   "metadata": {},
   "outputs": [
    {
     "name": "stdout",
     "output_type": "stream",
     "text": [
      "4304274256\n"
     ]
    }
   ],
   "source": [
    "p=20\n",
    "#it prints the address of the variable\n",
    "print(id(p))"
   ]
  },
  {
   "cell_type": "markdown",
   "metadata": {},
   "source": [
    "Datatypes ,  everything in python is object"
   ]
  },
  {
   "cell_type": "code",
   "execution_count": 60,
   "metadata": {},
   "outputs": [
    {
     "name": "stdout",
     "output_type": "stream",
     "text": [
      "5 is the data type of  <class 'int'>\n",
      "3.4 is the data type of  <class 'float'>\n",
      "hello is the data type of  <class 'str'>\n"
     ]
    }
   ],
   "source": [
    "a=5; b=3.4; c=\"hello\"\n",
    "\n",
    "print(a, \"is the data type of \", type(a))\n",
    "\n",
    "print(b, \"is the data type of \", type(b))\n",
    "\n",
    "print(c, \"is the data type of \", type(c))"
   ]
  },
  {
   "cell_type": "code",
   "execution_count": 61,
   "metadata": {},
   "outputs": [
    {
     "name": "stdout",
     "output_type": "stream",
     "text": [
      "(9+3j)\n",
      "True\n",
      "<class 'complex'>\n"
     ]
    }
   ],
   "source": [
    "a=i+3j\n",
    "print(a)\n",
    "print(isinstance(i+3j,complex))\n",
    "print(type(a))"
   ]
  },
  {
   "cell_type": "markdown",
   "metadata": {},
   "source": [
    "-1 refers to the last  letter of a word in a string and array\n"
   ]
  },
  {
   "cell_type": "code",
   "execution_count": 62,
   "metadata": {},
   "outputs": [
    {
     "name": "stdout",
     "output_type": "stream",
     "text": [
      "s\n",
      " mathew s\n",
      " mathew \n",
      "vin\n"
     ]
    }
   ],
   "source": [
    "name=\"nivin mathew s\"\n",
    "print(name[-1])\n",
    "\n",
    "#slicing\n",
    "\n",
    "print(name[5:])\n",
    "print(name[5:-1])\n",
    "print(name[2:5])"
   ]
  },
  {
   "cell_type": "markdown",
   "metadata": {},
   "source": [
    "Python List :\n",
    "it can Contain objects of any datatypes and we can change it any time"
   ]
  },
  {
   "cell_type": "code",
   "execution_count": 63,
   "metadata": {},
   "outputs": [
    {
     "name": "stdout",
     "output_type": "stream",
     "text": [
      "[10, 2, 3, 'nivin']\n",
      "2\n",
      "4.5\n"
     ]
    }
   ],
   "source": [
    "list=[10,2,3,\"nivin\"]\n",
    "print(list)\n",
    "print(list[1])\n",
    "list[1]=4.5\n",
    "print(list[1])"
   ]
  },
  {
   "cell_type": "markdown",
   "metadata": {},
   "source": [
    "Tuple (it is similar to list but the only difference is we cannot change the value later)"
   ]
  },
  {
   "cell_type": "code",
   "execution_count": 64,
   "metadata": {},
   "outputs": [
    {
     "name": "stdout",
     "output_type": "stream",
     "text": [
      "(1, 2.3, 'four')\n",
      "2.3\n"
     ]
    }
   ],
   "source": [
    "tup=(1,2.3,\"four\")\n",
    "print(tup)\n",
    "print(tup[1])"
   ]
  },
  {
   "cell_type": "markdown",
   "metadata": {},
   "source": [
    "Set is a unorderd collection of objects"
   ]
  },
  {
   "cell_type": "markdown",
   "metadata": {},
   "source": [
    "Set doesnot support indexing"
   ]
  },
  {
   "cell_type": "markdown",
   "metadata": {},
   "source": [
    "set only prints unique elements"
   ]
  },
  {
   "cell_type": "code",
   "execution_count": 65,
   "metadata": {},
   "outputs": [
    {
     "name": "stdout",
     "output_type": "stream",
     "text": [
      "{1, 2, 3, 4, 5, 6}\n"
     ]
    }
   ],
   "source": [
    "#set\n",
    "st={1,2,2,3,3,4,5,6}\n",
    "print(st)"
   ]
  },
  {
   "cell_type": "markdown",
   "metadata": {},
   "source": [
    "Dictionary"
   ]
  },
  {
   "cell_type": "markdown",
   "metadata": {},
   "source": [
    "it stores key-value pairs in an unordered way\n",
    "we can access the dictionary elements by indexing the key"
   ]
  },
  {
   "cell_type": "code",
   "execution_count": 66,
   "metadata": {},
   "outputs": [
    {
     "name": "stdout",
     "output_type": "stream",
     "text": [
      "{'a': 'apple', 'b': 'bananna', 'c': 'cat'}\n",
      "bananna\n"
     ]
    }
   ],
   "source": [
    "dic={'a':\"apple\", 'b':\"bananna\",'c':\"cat\"}\n",
    "print(dic)\n",
    "print(dic['b'])"
   ]
  },
  {
   "cell_type": "markdown",
   "metadata": {},
   "source": [
    "conversion"
   ]
  },
  {
   "cell_type": "code",
   "execution_count": 67,
   "metadata": {},
   "outputs": [
    {
     "name": "stdout",
     "output_type": "stream",
     "text": [
      "10.0\n",
      "3\n",
      "99\n"
     ]
    }
   ],
   "source": [
    "print(float(10))\n",
    "print(int(3.5))\n",
    "print(str(99))"
   ]
  },
  {
   "cell_type": "markdown",
   "metadata": {},
   "source": [
    "valueError (Invalid literals)\n"
   ]
  },
  {
   "cell_type": "markdown",
   "metadata": {},
   "source": [
    "if you try to convert int(10p) then this is invalid literals"
   ]
  },
  {
   "cell_type": "code",
   "execution_count": 68,
   "metadata": {},
   "outputs": [
    {
     "ename": "ValueError",
     "evalue": "invalid literal for int() with base 10: '10p'",
     "output_type": "error",
     "traceback": [
      "\u001b[0;31m---------------------------------------------------------------------------\u001b[0m",
      "\u001b[0;31mValueError\u001b[0m                                Traceback (most recent call last)",
      "Cell \u001b[0;32mIn[68], line 1\u001b[0m\n\u001b[0;32m----> 1\u001b[0m \u001b[38;5;28mprint\u001b[39m(\u001b[38;5;28;43mint\u001b[39;49m\u001b[43m(\u001b[49m\u001b[38;5;124;43m'\u001b[39;49m\u001b[38;5;124;43m10p\u001b[39;49m\u001b[38;5;124;43m'\u001b[39;49m\u001b[43m)\u001b[49m)\n",
      "\u001b[0;31mValueError\u001b[0m: invalid literal for int() with base 10: '10p'"
     ]
    }
   ],
   "source": [
    "print(int('10p'))"
   ]
  },
  {
   "cell_type": "markdown",
   "metadata": {},
   "source": [
    "converting a list to set"
   ]
  },
  {
   "cell_type": "markdown",
   "metadata": {},
   "source": [
    "a = [1, 2, 3]\n",
    "print(type(a))  # Output: <class 'list'>\n",
    "\n",
    "# Rename the variable to something other than 'set'\n",
    "s = set(a)\n",
    "print(type(s))  # Output: <class 'set'>"
   ]
  },
  {
   "cell_type": "markdown",
   "metadata": {},
   "source": [
    "list('Hello')\n",
    "\n",
    "output: ['H', 'e', 'l', 'l', 'o']"
   ]
  },
  {
   "cell_type": "markdown",
   "metadata": {},
   "source": [
    "Python Output"
   ]
  },
  {
   "cell_type": "code",
   "execution_count": 70,
   "metadata": {},
   "outputs": [
    {
     "name": "stdout",
     "output_type": "stream",
     "text": [
      "value of a is  10\n",
      "value of a is 10\n"
     ]
    }
   ],
   "source": [
    "a=10\n",
    "print(\"value of a is \",a)\n",
    "print(\"value of a is \"+str(a))"
   ]
  },
  {
   "cell_type": "markdown",
   "metadata": {},
   "source": [
    "Output Formatting"
   ]
  },
  {
   "cell_type": "code",
   "execution_count": 74,
   "metadata": {},
   "outputs": [
    {
     "name": "stdout",
     "output_type": "stream",
     "text": [
      "The value of a=10 and b=20\n"
     ]
    }
   ],
   "source": [
    "a=10; b=20\n",
    "print(\"The value of a={} and b={}\".format(a,b))"
   ]
  },
  {
   "cell_type": "code",
   "execution_count": 75,
   "metadata": {},
   "outputs": [
    {
     "name": "stdout",
     "output_type": "stream",
     "text": [
      "The value of a=10 and b=20\n"
     ]
    }
   ],
   "source": [
    "a=10; b=20\n",
    "print(\"The value of a={1} and b={0}\".format(b,a))"
   ]
  },
  {
   "cell_type": "code",
   "execution_count": 80,
   "metadata": {},
   "outputs": [
    {
     "name": "stdout",
     "output_type": "stream",
     "text": [
      "First name=nivin and last name=mathew\n"
     ]
    }
   ],
   "source": [
    "name=\"nivin\"\n",
    "print(\"First name={} and last name={lname} and other{}\".format(name,lname=\"mathew\",\"S\"))"
   ]
  }
 ],
 "metadata": {
  "kernelspec": {
   "display_name": "base",
   "language": "python",
   "name": "python3"
  },
  "language_info": {
   "codemirror_mode": {
    "name": "ipython",
    "version": 3
   },
   "file_extension": ".py",
   "mimetype": "text/x-python",
   "name": "python",
   "nbconvert_exporter": "python",
   "pygments_lexer": "ipython3",
   "version": "3.10.9"
  }
 },
 "nbformat": 4,
 "nbformat_minor": 2
}
