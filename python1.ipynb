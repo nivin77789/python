{
 "cells": [
  {
   "cell_type": "code",
   "execution_count": 54,
   "metadata": {},
   "outputs": [
    {
     "name": "stdout",
     "output_type": "stream",
     "text": [
      "Hello World\n"
     ]
    }
   ],
   "source": [
    "print(\"Hello World\")"
   ]
  },
  {
   "cell_type": "markdown",
   "metadata": {},
   "source": [
    "Indentation\n",
    "(Four Space for indentation)"
   ]
  },
  {
   "cell_type": "code",
   "execution_count": 55,
   "metadata": {},
   "outputs": [
    {
     "name": "stdout",
     "output_type": "stream",
     "text": [
      "0\n",
      "1\n",
      "2\n",
      "3\n",
      "4\n",
      "5\n",
      "6\n",
      "7\n",
      "8\n",
      "9\n"
     ]
    }
   ],
   "source": [
    "for i in range(10):\n",
    "    print(i)"
   ]
  },
  {
   "cell_type": "markdown",
   "metadata": {},
   "source": [
    "Multiple Line Statement use () or \\"
   ]
  },
  {
   "cell_type": "code",
   "execution_count": 56,
   "metadata": {},
   "outputs": [
    {
     "name": "stdout",
     "output_type": "stream",
     "text": [
      "28\n"
     ]
    }
   ],
   "source": [
    "a=1+2+ \\\n",
    "    3+4+5+\\\n",
    "        6+7\n",
    "print(a)        "
   ]
  },
  {
   "cell_type": "code",
   "execution_count": 57,
   "metadata": {},
   "outputs": [
    {
     "name": "stdout",
     "output_type": "stream",
     "text": [
      "28\n"
     ]
    }
   ],
   "source": [
    "a=(1+2+\n",
    "   3+4+5\n",
    "   +6+7)\n",
    "print(a)"
   ]
  },
  {
   "cell_type": "markdown",
   "metadata": {},
   "source": [
    "Variables and assignment"
   ]
  },
  {
   "cell_type": "code",
   "execution_count": 58,
   "metadata": {},
   "outputs": [
    {
     "name": "stdout",
     "output_type": "stream",
     "text": [
      "100\n",
      "hello\n",
      "3.5\n"
     ]
    }
   ],
   "source": [
    "a=10\n",
    "b=12.3\n",
    "c=\"hello\"\n",
    "#in single line\n",
    "j,k,l=2,3.5,\"hi\"\n",
    "#same value to differrent variables\n",
    "x=y=z=100\n",
    "print(y)\n",
    "print(c)\n",
    "print(k)"
   ]
  },
  {
   "cell_type": "markdown",
   "metadata": {},
   "source": [
    "Storage or address of a variable"
   ]
  },
  {
   "cell_type": "code",
   "execution_count": 59,
   "metadata": {},
   "outputs": [
    {
     "name": "stdout",
     "output_type": "stream",
     "text": [
      "4304274256\n"
     ]
    }
   ],
   "source": [
    "p=20\n",
    "#it prints the address of the variable\n",
    "print(id(p))"
   ]
  },
  {
   "cell_type": "markdown",
   "metadata": {},
   "source": [
    "Datatypes ,  everything in python is object"
   ]
  },
  {
   "cell_type": "code",
   "execution_count": 60,
   "metadata": {},
   "outputs": [
    {
     "name": "stdout",
     "output_type": "stream",
     "text": [
      "5 is the data type of  <class 'int'>\n",
      "3.4 is the data type of  <class 'float'>\n",
      "hello is the data type of  <class 'str'>\n"
     ]
    }
   ],
   "source": [
    "a=5; b=3.4; c=\"hello\"\n",
    "\n",
    "print(a, \"is the data type of \", type(a))\n",
    "\n",
    "print(b, \"is the data type of \", type(b))\n",
    "\n",
    "print(c, \"is the data type of \", type(c))"
   ]
  },
  {
   "cell_type": "code",
   "execution_count": 61,
   "metadata": {},
   "outputs": [
    {
     "name": "stdout",
     "output_type": "stream",
     "text": [
      "(9+3j)\n",
      "True\n",
      "<class 'complex'>\n"
     ]
    }
   ],
   "source": [
    "a=i+3j\n",
    "print(a)\n",
    "print(isinstance(i+3j,complex))\n",
    "print(type(a))"
   ]
  },
  {
   "cell_type": "markdown",
   "metadata": {},
   "source": [
    "-1 refers to the last  letter of a word in a string and array\n"
   ]
  },
  {
   "cell_type": "code",
   "execution_count": 62,
   "metadata": {},
   "outputs": [
    {
     "name": "stdout",
     "output_type": "stream",
     "text": [
      "s\n",
      " mathew s\n",
      " mathew \n",
      "vin\n"
     ]
    }
   ],
   "source": [
    "name=\"nivin mathew s\"\n",
    "print(name[-1])\n",
    "\n",
    "#slicing\n",
    "\n",
    "print(name[5:])\n",
    "print(name[5:-1])\n",
    "print(name[2:5])"
   ]
  },
  {
   "cell_type": "markdown",
   "metadata": {},
   "source": [
    "Python List :\n",
    "it can Contain objects of any datatypes and we can change it any time"
   ]
  },
  {
   "cell_type": "code",
   "execution_count": 63,
   "metadata": {},
   "outputs": [
    {
     "name": "stdout",
     "output_type": "stream",
     "text": [
      "[10, 2, 3, 'nivin']\n",
      "2\n",
      "4.5\n"
     ]
    }
   ],
   "source": [
    "list=[10,2,3,\"nivin\"]\n",
    "print(list)\n",
    "print(list[1])\n",
    "list[1]=4.5\n",
    "print(list[1])"
   ]
  },
  {
   "cell_type": "markdown",
   "metadata": {},
   "source": [
    "Tuple (it is similar to list but the only difference is we cannot change the value later)"
   ]
  },
  {
   "cell_type": "code",
   "execution_count": 64,
   "metadata": {},
   "outputs": [
    {
     "name": "stdout",
     "output_type": "stream",
     "text": [
      "(1, 2.3, 'four')\n",
      "2.3\n"
     ]
    }
   ],
   "source": [
    "tup=(1,2.3,\"four\")\n",
    "print(tup)\n",
    "print(tup[1])"
   ]
  },
  {
   "cell_type": "markdown",
   "metadata": {},
   "source": [
    "Set is a unorderd collection of objects"
   ]
  },
  {
   "cell_type": "markdown",
   "metadata": {},
   "source": [
    "Set doesnot support indexing"
   ]
  },
  {
   "cell_type": "markdown",
   "metadata": {},
   "source": [
    "set only prints unique elements"
   ]
  },
  {
   "cell_type": "code",
   "execution_count": 65,
   "metadata": {},
   "outputs": [
    {
     "name": "stdout",
     "output_type": "stream",
     "text": [
      "{1, 2, 3, 4, 5, 6}\n"
     ]
    }
   ],
   "source": [
    "#set\n",
    "st={1,2,2,3,3,4,5,6}\n",
    "print(st)"
   ]
  },
  {
   "cell_type": "markdown",
   "metadata": {},
   "source": [
    "Dictionary"
   ]
  },
  {
   "cell_type": "markdown",
   "metadata": {},
   "source": [
    "it stores key-value pairs in an unordered way\n",
    "we can access the dictionary elements by indexing the key"
   ]
  },
  {
   "cell_type": "code",
   "execution_count": 66,
   "metadata": {},
   "outputs": [
    {
     "name": "stdout",
     "output_type": "stream",
     "text": [
      "{'a': 'apple', 'b': 'bananna', 'c': 'cat'}\n",
      "bananna\n"
     ]
    }
   ],
   "source": [
    "dic={'a':\"apple\", 'b':\"bananna\",'c':\"cat\"}\n",
    "print(dic)\n",
    "print(dic['b'])"
   ]
  },
  {
   "cell_type": "markdown",
   "metadata": {},
   "source": [
    "conversion"
   ]
  },
  {
   "cell_type": "code",
   "execution_count": 67,
   "metadata": {},
   "outputs": [
    {
     "name": "stdout",
     "output_type": "stream",
     "text": [
      "10.0\n",
      "3\n",
      "99\n"
     ]
    }
   ],
   "source": [
    "print(float(10))\n",
    "print(int(3.5))\n",
    "print(str(99))"
   ]
  },
  {
   "cell_type": "markdown",
   "metadata": {},
   "source": [
    "valueError (Invalid literals)\n"
   ]
  },
  {
   "cell_type": "markdown",
   "metadata": {},
   "source": [
    "if you try to convert int(10p) then this is invalid literals"
   ]
  },
  {
   "cell_type": "code",
   "execution_count": 68,
   "metadata": {},
   "outputs": [
    {
     "ename": "ValueError",
     "evalue": "invalid literal for int() with base 10: '10p'",
     "output_type": "error",
     "traceback": [
      "\u001b[0;31m---------------------------------------------------------------------------\u001b[0m",
      "\u001b[0;31mValueError\u001b[0m                                Traceback (most recent call last)",
      "Cell \u001b[0;32mIn[68], line 1\u001b[0m\n\u001b[0;32m----> 1\u001b[0m \u001b[38;5;28mprint\u001b[39m(\u001b[38;5;28;43mint\u001b[39;49m\u001b[43m(\u001b[49m\u001b[38;5;124;43m'\u001b[39;49m\u001b[38;5;124;43m10p\u001b[39;49m\u001b[38;5;124;43m'\u001b[39;49m\u001b[43m)\u001b[49m)\n",
      "\u001b[0;31mValueError\u001b[0m: invalid literal for int() with base 10: '10p'"
     ]
    }
   ],
   "source": [
    "print(int('10p'))"
   ]
  },
  {
   "cell_type": "markdown",
   "metadata": {},
   "source": [
    "converting a list to set"
   ]
  },
  {
   "cell_type": "markdown",
   "metadata": {},
   "source": [
    "a = [1, 2, 3]\n",
    "print(type(a))  # Output: <class 'list'>\n",
    "\n",
    "# Rename the variable to something other than 'set'\n",
    "s = set(a)\n",
    "print(type(s))  # Output: <class 'set'>"
   ]
  },
  {
   "cell_type": "markdown",
   "metadata": {},
   "source": [
    "list('Hello')\n",
    "\n",
    "output: ['H', 'e', 'l', 'l', 'o']"
   ]
  },
  {
   "cell_type": "markdown",
   "metadata": {},
   "source": [
    "Python Output"
   ]
  },
  {
   "cell_type": "code",
   "execution_count": 70,
   "metadata": {},
   "outputs": [
    {
     "name": "stdout",
     "output_type": "stream",
     "text": [
      "value of a is  10\n",
      "value of a is 10\n"
     ]
    }
   ],
   "source": [
    "a=10\n",
    "print(\"value of a is \",a)\n",
    "print(\"value of a is \"+str(a))"
   ]
  },
  {
   "cell_type": "markdown",
   "metadata": {},
   "source": [
    "Output Formatting"
   ]
  },
  {
   "cell_type": "code",
   "execution_count": 74,
   "metadata": {},
   "outputs": [
    {
     "name": "stdout",
     "output_type": "stream",
     "text": [
      "The value of a=10 and b=20\n"
     ]
    }
   ],
   "source": [
    "a=10; b=20\n",
    "print(\"The value of a={} and b={}\".format(a,b))"
   ]
  },
  {
   "cell_type": "code",
   "execution_count": 87,
   "metadata": {},
   "outputs": [
    {
     "name": "stdout",
     "output_type": "stream",
     "text": [
      "The value of a=10 and b=20\n"
     ]
    }
   ],
   "source": [
    "a=10; b=20\n",
    "print(\"The value of a={1} and b={0}\".format(b,a))"
   ]
  },
  {
   "cell_type": "code",
   "execution_count": 86,
   "metadata": {},
   "outputs": [
    {
     "name": "stdout",
     "output_type": "stream",
     "text": [
      "First name=nivin and last name=mathew and other S\n"
     ]
    }
   ],
   "source": [
    "name=\"nivin\"\n",
    "print(\"First name={1} and last name={lname} and other {0}\".format('S',name,lname=\"mathew\"))"
   ]
  },
  {
   "cell_type": "markdown",
   "metadata": {},
   "source": [
    "Operators"
   ]
  },
  {
   "cell_type": "markdown",
   "metadata": {},
   "source": [
    "   #arithmatic"
   ]
  },
  {
   "cell_type": "code",
   "execution_count": 85,
   "metadata": {},
   "outputs": [
    {
     "name": "stdout",
     "output_type": "stream",
     "text": [
      "12\n",
      "3\n",
      "16\n"
     ]
    }
   ],
   "source": [
    "\n",
    "print(10+2)\n",
    "#floor \n",
    "print(10//3)\n",
    "#Exponent(power)\n",
    "print(2**4)"
   ]
  },
  {
   "cell_type": "markdown",
   "metadata": {},
   "source": [
    "Comparision Operators   >,<,==,!=,>=,<="
   ]
  },
  {
   "cell_type": "markdown",
   "metadata": {},
   "source": [
    "Logical operators"
   ]
  },
  {
   "cell_type": "code",
   "execution_count": 84,
   "metadata": {},
   "outputs": [
    {
     "name": "stdout",
     "output_type": "stream",
     "text": [
      "False\n",
      "True\n",
      "True\n"
     ]
    }
   ],
   "source": [
    "a,b=True,False\n",
    "print(a and b)\n",
    "print(a or b)\n",
    "print(not b)"
   ]
  },
  {
   "cell_type": "markdown",
   "metadata": {},
   "source": [
    "Bitwise Operator &, |,~,^,>>,<<"
   ]
  },
  {
   "cell_type": "code",
   "execution_count": 90,
   "metadata": {},
   "outputs": [
    {
     "name": "stdout",
     "output_type": "stream",
     "text": [
      "0\n",
      "14\n",
      "-5\n",
      "14\n",
      "0\n",
      "160\n"
     ]
    }
   ],
   "source": [
    "a,b=10,4\n",
    "#Bitwise AND\n",
    "print(a&b)\n",
    "#Bitwise OR\n",
    "print(a|b)\n",
    "#Bitwise NOR\n",
    "print(~b)\n",
    "#Bitwise XOR\n",
    "print(a^b)\n",
    "#Bitwise rightshift\n",
    "print(a>>b)\n",
    "#Bitwise leftshift\n",
    "print(a<<b)"
   ]
  },
  {
   "cell_type": "markdown",
   "metadata": {},
   "source": [
    "Assignment operators"
   ]
  },
  {
   "cell_type": "code",
   "execution_count": 91,
   "metadata": {},
   "outputs": [],
   "source": [
    "a=10\n",
    "a+=10\n",
    "a-=10\n",
    "a*=10\n",
    "a/=10\n",
    "a%=10\n",
    "a//=10\n",
    "a**=10"
   ]
  },
  {
   "cell_type": "markdown",
   "metadata": {},
   "source": [
    "Identity operator"
   ]
  },
  {
   "cell_type": "code",
   "execution_count": 95,
   "metadata": {},
   "outputs": [
    {
     "name": "stdout",
     "output_type": "stream",
     "text": [
      "True\n",
      "True\n",
      "False\n"
     ]
    }
   ],
   "source": [
    "a=1\n",
    "b=1\n",
    "print(a is b)\n",
    "#its true only for num and string\n",
    "n=\"nivin\"\n",
    "m=\"nivin\"\n",
    "print(n is m)\n",
    "print(n is not m)"
   ]
  },
  {
   "cell_type": "code",
   "execution_count": 96,
   "metadata": {},
   "outputs": [
    {
     "name": "stdout",
     "output_type": "stream",
     "text": [
      "False\n",
      "True\n"
     ]
    }
   ],
   "source": [
    "a1=[1,2,3]\n",
    "a2=[1,2,3]\n",
    "print(a1 is a2)\n",
    "print(a1 is not a2)"
   ]
  },
  {
   "cell_type": "markdown",
   "metadata": {},
   "source": [
    "Membership Operator"
   ]
  },
  {
   "cell_type": "code",
   "execution_count": 100,
   "metadata": {},
   "outputs": [
    {
     "name": "stdout",
     "output_type": "stream",
     "text": [
      "True\n",
      "True\n",
      "False\n"
     ]
    }
   ],
   "source": [
    "arr=[1,2,3,4]\n",
    "print(1 in arr)\n",
    "dictr={1:\"apple\",2:\"banana\"}\n",
    "print(1 in dictr)\n",
    "print(1 not in dictr)"
   ]
  },
  {
   "cell_type": "markdown",
   "metadata": {},
   "source": [
    "Flow controll statement"
   ]
  },
  {
   "cell_type": "code",
   "execution_count": 109,
   "metadata": {},
   "outputs": [
    {
     "name": "stdout",
     "output_type": "stream",
     "text": [
      "greater\n",
      "lesser\n",
      "greater\n"
     ]
    }
   ],
   "source": [
    "#if\n",
    "num=20\n",
    "num2=100\n",
    "if num>10:\n",
    "    print(\"greater\")\n",
    "else:\n",
    "    print(\"lesser\")    \n",
    "# elif\n",
    "if num>20:\n",
    "    print(\"greater\")\n",
    "elif num<100:\n",
    "    print(\"lesser\") \n",
    "else:\n",
    "    print(\"Zero\")  \n",
    "    \n",
    "#other possible ways    \n",
    "if(num>10) and (num==10):\n",
    "    print(\"greater\")\n",
    "    \n",
    "    \n",
    "#fghjhg\n",
    "if(num>10) or (num==10):\n",
    "    print(\"greater\")    \n",
    "          \n",
    "    "
   ]
  },
  {
   "cell_type": "markdown",
   "metadata": {},
   "source": [
    "Looping statement"
   ]
  },
  {
   "cell_type": "code",
   "execution_count": 110,
   "metadata": {},
   "outputs": [
    {
     "name": "stdout",
     "output_type": "stream",
     "text": [
      "1\n",
      "4\n",
      "3\n"
     ]
    }
   ],
   "source": [
    "li=[1,4,3]\n",
    "for i in li:\n",
    "    print(i)"
   ]
  },
  {
   "cell_type": "code",
   "execution_count": 112,
   "metadata": {},
   "outputs": [
    {
     "name": "stdout",
     "output_type": "stream",
     "text": [
      "0\n",
      "1\n",
      "2\n",
      "3\n"
     ]
    }
   ],
   "source": [
    "#range function\n",
    "for i in range(4):\n",
    "    print(i)"
   ]
  },
  {
   "cell_type": "code",
   "execution_count": 121,
   "metadata": {},
   "outputs": [
    {
     "name": "stdout",
     "output_type": "stream",
     "text": [
      "1\n",
      "3\n",
      "5\n",
      "7\n",
      "9\n",
      "11\n",
      "13\n",
      "15\n",
      "17\n",
      "19\n",
      "no items left\n"
     ]
    }
   ],
   "source": [
    "#print fron 1 to 20 with step size of 2\n",
    "for i in range(1,20,2):\n",
    "    print(i)\n",
    "else:\n",
    "    print(\"no items left\")    "
   ]
  },
  {
   "cell_type": "markdown",
   "metadata": {},
   "source": [
    "while loop"
   ]
  },
  {
   "cell_type": "code",
   "execution_count": 123,
   "metadata": {},
   "outputs": [
    {
     "name": "stdout",
     "output_type": "stream",
     "text": [
      "10\n",
      "200\n",
      "6000\n",
      "240000\n",
      "12000000\n",
      "loop over\n"
     ]
    }
   ],
   "source": [
    "#while\n",
    "lst=[10,20,30,40,50]\n",
    "product=1\n",
    "index=0\n",
    "while index<len(lst):\n",
    "    product *= lst[index]\n",
    "    print(product)   \n",
    "    index +=1\n",
    "else:\n",
    "    print(\"loop over\")    \n",
    "\n",
    "\n",
    "\n",
    "\n",
    "\n"
   ]
  },
  {
   "cell_type": "markdown",
   "metadata": {},
   "source": [
    "Break and Continue"
   ]
  },
  {
   "cell_type": "code",
   "execution_count": null,
   "metadata": {},
   "outputs": [],
   "source": [
    "#break\n",
    "#continue"
   ]
  },
  {
   "cell_type": "code",
   "execution_count": 153,
   "metadata": {},
   "outputs": [
    {
     "name": "stdout",
     "output_type": "stream",
     "text": [
      "['hi', 'my', 'name', 'is', 'nivin', 'mathew', 's']\n"
     ]
    }
   ],
   "source": [
    "#string split\n",
    "s=\"hi my name is nivin mathew s\"\n",
    "print(s.split())"
   ]
  },
  {
   "cell_type": "markdown",
   "metadata": {},
   "source": [
    "Data Structurs in python"
   ]
  },
  {
   "cell_type": "markdown",
   "metadata": {},
   "source": [
    "Lists"
   ]
  },
  {
   "cell_type": "code",
   "execution_count": 124,
   "metadata": {},
   "outputs": [
    {
     "name": "stdout",
     "output_type": "stream",
     "text": [
      "[[1, 2], [3, 4]]\n"
     ]
    }
   ],
   "source": [
    "#list is mutalble which means it can be canged any time\n",
    "#it can contain datas of multiple datatype\n",
    "emptylist=[]\n",
    "#list of sting,int,lists,diff datatypes\n",
    "lst1=[[1,2],[3,4]]\n",
    "print(lst1)"
   ]
  },
  {
   "cell_type": "code",
   "execution_count": 126,
   "metadata": {},
   "outputs": [
    {
     "name": "stdout",
     "output_type": "stream",
     "text": [
      "3\n"
     ]
    }
   ],
   "source": [
    "#list length\n",
    "list=[1,2,3]\n",
    "print(len(list))"
   ]
  },
  {
   "cell_type": "code",
   "execution_count": 129,
   "metadata": {},
   "outputs": [
    {
     "name": "stdout",
     "output_type": "stream",
     "text": [
      "[1, 2, 3]\n",
      "[1, 2, 3, 'hi']\n"
     ]
    }
   ],
   "source": [
    "#List append\n",
    "lst=[1,2]\n",
    "lst.append(3)\n",
    "print(lst)\n",
    "lst.append(\"hi\")\n",
    "print(lst)"
   ]
  },
  {
   "cell_type": "code",
   "execution_count": 132,
   "metadata": {},
   "outputs": [
    {
     "name": "stdout",
     "output_type": "stream",
     "text": [
      "[1, 2, 'three', 4]\n"
     ]
    }
   ],
   "source": [
    "#List insert\n",
    "lst=[1,2,4]\n",
    "lst.insert(2,\"three\")\n",
    "print(lst)"
   ]
  },
  {
   "cell_type": "code",
   "execution_count": 134,
   "metadata": {},
   "outputs": [
    {
     "name": "stdout",
     "output_type": "stream",
     "text": [
      "[1, 4, 2]\n"
     ]
    }
   ],
   "source": [
    "#List Remove\n",
    "lst=[1,2,4,2]\n",
    "#it only removes first accurance\n",
    "lst.remove(2)\n",
    "print(lst)"
   ]
  },
  {
   "cell_type": "code",
   "execution_count": 135,
   "metadata": {},
   "outputs": [
    {
     "name": "stdout",
     "output_type": "stream",
     "text": [
      "[1, 2, 3, 4, 5, 6]\n"
     ]
    }
   ],
   "source": [
    "#List Extend\n",
    "lst1=[1,2,3]\n",
    "lst2=[4,5,6]\n",
    "lst1.extend(lst2)\n",
    "print(lst1)"
   ]
  },
  {
   "cell_type": "code",
   "execution_count": 137,
   "metadata": {},
   "outputs": [
    {
     "name": "stdout",
     "output_type": "stream",
     "text": [
      "[1, 2, 3, 4, 5]\n",
      "[2, 3, 4, 5]\n",
      "[2, 3, 4]\n",
      "5\n"
     ]
    }
   ],
   "source": [
    "#List delete and pop\n",
    "lst=[1,2,3,4,5]\n",
    "print(lst)\n",
    "del lst[0]\n",
    "print(lst)\n",
    "a=lst.pop(-1)\n",
    "print(lst)\n",
    "print(a)"
   ]
  },
  {
   "cell_type": "code",
   "execution_count": 142,
   "metadata": {},
   "outputs": [
    {
     "name": "stdout",
     "output_type": "stream",
     "text": [
      "YES\n",
      "Yes\n"
     ]
    }
   ],
   "source": [
    "#List Keywords \n",
    "ldt=[\"one\",\"two\",\"three\"]\n",
    "if \"two\" in ldt:\n",
    "    print(\"YES\")\n",
    "    \n",
    "if \"four\" not in ldt:\n",
    "    print(\"Yes\")    "
   ]
  },
  {
   "cell_type": "code",
   "execution_count": 143,
   "metadata": {},
   "outputs": [
    {
     "name": "stdout",
     "output_type": "stream",
     "text": [
      "['three', 'two', 'one']\n"
     ]
    }
   ],
   "source": [
    "#List Reverse\n",
    "ldt=[\"one\",\"two\",\"three\"]\n",
    "ldt.reverse()\n",
    "print(ldt)"
   ]
  },
  {
   "cell_type": "code",
   "execution_count": 146,
   "metadata": {},
   "outputs": [
    {
     "name": "stdout",
     "output_type": "stream",
     "text": [
      "[1, 2, 3, 6, 6, 9]\n",
      "[9, 6, 6, 3, 2, 1]\n",
      "[1, 2, 3, 6, 6, 9]\n"
     ]
    }
   ],
   "source": [
    "#List Sorting\n",
    "ldt=[6,3,6,2,9,1]\n",
    "print(sorted(ldt))\n",
    "#decendin order\n",
    "print(sorted(ldt,reverse=True))\n",
    "ldt.sort()\n",
    "print(ldt)"
   ]
  },
  {
   "cell_type": "code",
   "execution_count": 156,
   "metadata": {},
   "outputs": [
    {
     "name": "stdout",
     "output_type": "stream",
     "text": [
      "1\n",
      "2\n"
     ]
    }
   ],
   "source": [
    "#List indexing\n",
    "ldt=[6,3,6,2,9,1]\n",
    "print(ldt[-1])\n",
    "print(ldt[3])"
   ]
  },
  {
   "cell_type": "code",
   "execution_count": 163,
   "metadata": {},
   "outputs": [
    {
     "name": "stdout",
     "output_type": "stream",
     "text": [
      "[456, 435, 657, 3421, 563, 536, 436]\n",
      "[456, 435, 657]\n",
      "[456, 657, 563, 436]\n",
      "[657, 563, 436]\n"
     ]
    }
   ],
   "source": [
    "#List slicing\n",
    "lst=[456,435,657,3421,563,536,436]\n",
    "#terms   : first element, end element and stepsize\n",
    "#print all num\n",
    "print(lst[:])\n",
    "#print from 0 to 3\n",
    "print(lst[0:3])\n",
    "#print alternate elements in as list\n",
    "print(lst[::2])\n",
    "#print alternate elements from start\n",
    "print(lst[2::2])"
   ]
  },
  {
   "cell_type": "code",
   "execution_count": 166,
   "metadata": {},
   "outputs": [
    {
     "name": "stdout",
     "output_type": "stream",
     "text": [
      "[1, 2, 3, 4, 5, 6, 7]\n"
     ]
    }
   ],
   "source": [
    "#List extend usinf +\n",
    "lst1=[1,2,3,4]\n",
    "lst2=[5,6,7]\n",
    "lst1+=lst2\n",
    "print(lst1)"
   ]
  },
  {
   "cell_type": "code",
   "execution_count": 169,
   "metadata": {},
   "outputs": [
    {
     "name": "stdout",
     "output_type": "stream",
     "text": [
      "2\n"
     ]
    }
   ],
   "source": [
    "#find the count of duplicate element\n",
    "lst1=[1,2,3,4,2,3]\n",
    "print(lst1.count(3))"
   ]
  },
  {
   "cell_type": "code",
   "execution_count": 171,
   "metadata": {},
   "outputs": [
    {
     "name": "stdout",
     "output_type": "stream",
     "text": [
      "1\n",
      "2\n",
      "3\n",
      "4\n",
      "2\n",
      "3\n"
     ]
    }
   ],
   "source": [
    "#List Looping\n",
    "lst1=[1,2,3,4,2,3]\n",
    "for ele in lst1:\n",
    "    print(ele)"
   ]
  },
  {
   "cell_type": "code",
   "execution_count": 172,
   "metadata": {},
   "outputs": [
    {
     "name": "stdout",
     "output_type": "stream",
     "text": [
      "[0, 1, 4, 9, 16, 25, 36, 49, 64, 81]\n"
     ]
    }
   ],
   "source": [
    "#List comperehension\n",
    "'''insted of writing \n",
    "sqr=[]\n",
    "for i in range(10)\n",
    "   sqr.append(i**2)\n",
    "print(sqr)\n",
    "'''\n",
    "sqr=[i**2 for i in range(10)]\n",
    "print(sqr)"
   ]
  },
  {
   "cell_type": "code",
   "execution_count": 174,
   "metadata": {},
   "outputs": [
    {
     "name": "stdout",
     "output_type": "stream",
     "text": [
      "[[1, 5, 9], [2, 6, 10], [3, 7, 11], [4, 8, 12]]\n"
     ]
    }
   ],
   "source": [
    "#Neasted List Comprehension or 2d comprehension\n",
    "\n",
    "matrix=[\n",
    "    [1,2,3,4],[5,6,7,8],[9,10,11,12]\n",
    "]\n",
    "transpose=[[row[i] for row in matrix] for i in range(4)]\n",
    "print(transpose)"
   ]
  },
  {
   "cell_type": "markdown",
   "metadata": {},
   "source": [
    "Tuples"
   ]
  },
  {
   "cell_type": "markdown",
   "metadata": {},
   "source": [
    "we cannot add, remove or delete an element from tuple"
   ]
  },
  {
   "cell_type": "markdown",
   "metadata": {},
   "source": [
    "Its similar to list"
   ]
  },
  {
   "cell_type": "markdown",
   "metadata": {},
   "source": [
    "Tuples are immutable which means it cannot be edited"
   ]
  },
  {
   "cell_type": "code",
   "execution_count": 175,
   "metadata": {},
   "outputs": [
    {
     "name": "stdout",
     "output_type": "stream",
     "text": [
      "(1, (2, 3, 4), [1, 'nivin', 23])\n"
     ]
    }
   ],
   "source": [
    "#Empty tuple\n",
    "t=()\n",
    "t=(1,2,3)\n",
    "#nested tuple : it can contain tuple inside a tuple and a list inside\n",
    "t=(1,(2,3,4),[1,'nivin',23])\n",
    "print(t)"
   ]
  },
  {
   "cell_type": "code",
   "execution_count": 176,
   "metadata": {},
   "outputs": [
    {
     "name": "stdout",
     "output_type": "stream",
     "text": [
      "<class 'str'>\n",
      "<class 'tuple'>\n"
     ]
    }
   ],
   "source": [
    "#mistakes in interview questions\n",
    "t=('nivin') #this is a string\n",
    "tr=('nivin',) #this is a tuple\n",
    "print(type(t))\n",
    "print(type(tr))"
   ]
  },
  {
   "cell_type": "code",
   "execution_count": 179,
   "metadata": {},
   "outputs": [
    {
     "name": "stdout",
     "output_type": "stream",
     "text": [
      "nivin\n"
     ]
    }
   ],
   "source": [
    "#nested tuple indexing\n",
    "t=(1,(2,3,4),[1,'nivin',23])\n",
    "print(t[2][1])"
   ]
  },
  {
   "cell_type": "code",
   "execution_count": null,
   "metadata": {},
   "outputs": [],
   "source": [
    "#slice is similar to list\n",
    "#sort is same as list\n",
    "#length also same\n",
    "#a tuple is mutable but if a list present in side tuple it can be changed"
   ]
  },
  {
   "cell_type": "code",
   "execution_count": 181,
   "metadata": {},
   "outputs": [
    {
     "name": "stdout",
     "output_type": "stream",
     "text": [
      "(1, 2, 3, 3, 4, 5)\n",
      "('nivin', 'nivin', 'nivin', 'nivin')\n"
     ]
    }
   ],
   "source": [
    "#concatinating tuple\n",
    "#two ways\n",
    "#1\n",
    "t=(1,2,3)+(3,4,5)\n",
    "print(t)\n",
    "tr=(('nivin',)*4)\n",
    "print(tr)"
   ]
  },
  {
   "cell_type": "code",
   "execution_count": 183,
   "metadata": {},
   "outputs": [],
   "source": [
    "#tuple deletion\n",
    "t=(1,2)\n",
    "#we cant remove single element in tuple\n",
    "#we can remove full tuple\n",
    "del t"
   ]
  },
  {
   "cell_type": "code",
   "execution_count": 185,
   "metadata": {},
   "outputs": [
    {
     "name": "stdout",
     "output_type": "stream",
     "text": [
      "2\n"
     ]
    }
   ],
   "source": [
    "#tuple count or find duplicate element count\n",
    "t=(1,2,2,3,4)\n",
    "print(t.count(2))"
   ]
  },
  {
   "cell_type": "code",
   "execution_count": 187,
   "metadata": {},
   "outputs": [
    {
     "name": "stdout",
     "output_type": "stream",
     "text": [
      "1\n"
     ]
    }
   ],
   "source": [
    "#tuple index\n",
    "t=(2,4,5,6,1,4)\n",
    "print(t.index(4)) #it will show the first index of the element"
   ]
  },
  {
   "cell_type": "code",
   "execution_count": 188,
   "metadata": {},
   "outputs": [
    {
     "name": "stdout",
     "output_type": "stream",
     "text": [
      "True\n",
      "False\n"
     ]
    }
   ],
   "source": [
    "#tuple membership\n",
    "#to check if the element is presdent in the tuple or not\n",
    "t=(2,4,5,6,1,4)\n",
    "print(1 in t)\n",
    "print(1 not in t)"
   ]
  },
  {
   "cell_type": "code",
   "execution_count": 189,
   "metadata": {},
   "outputs": [
    {
     "name": "stdout",
     "output_type": "stream",
     "text": [
      "6\n",
      "1\n",
      "22\n"
     ]
    }
   ],
   "source": [
    "#built-in funtion\n",
    "#math functions\n",
    "t=(2,4,5,6,1,4)\n",
    "print(max(t))\n",
    "print(min(t))\n",
    "print(sum(t))"
   ]
  },
  {
   "cell_type": "markdown",
   "metadata": {},
   "source": [
    "Sets"
   ]
  },
  {
   "cell_type": "code",
   "execution_count": null,
   "metadata": {},
   "outputs": [],
   "source": [
    "#sets are unorderd\n",
    "#it cannot be indexed\n",
    "#set itself is mutable we can add or remove items from it\n",
    "#sets can be used to perform mathematical set operations like uniion, intersection , symmetric difference etc\n",
    "#set doesnot allow duplicate elements"
   ]
  },
  {
   "cell_type": "code",
   "execution_count": 190,
   "metadata": {},
   "outputs": [
    {
     "name": "stdout",
     "output_type": "stream",
     "text": [
      "{1, 2, 3, 4}\n"
     ]
    }
   ],
   "source": [
    "#set creation\n",
    "s={1,2,3,4}\n",
    "print(s)\n"
   ]
  },
  {
   "cell_type": "code",
   "execution_count": 193,
   "metadata": {},
   "outputs": [
    {
     "name": "stdout",
     "output_type": "stream",
     "text": [
      "{1, 2, 3, 4}\n"
     ]
    }
   ],
   "source": [
    "se={1,2,3,2,4} #duplicate elements are neglected\n",
    "print(se)"
   ]
  },
  {
   "cell_type": "code",
   "execution_count": 196,
   "metadata": {},
   "outputs": [
    {
     "ename": "TypeError",
     "evalue": "'set' object is not callable",
     "output_type": "error",
     "traceback": [
      "\u001b[0;31m---------------------------------------------------------------------------\u001b[0m",
      "\u001b[0;31mTypeError\u001b[0m                                 Traceback (most recent call last)",
      "Cell \u001b[0;32mIn[196], line 2\u001b[0m\n\u001b[1;32m      1\u001b[0m \u001b[38;5;66;03m#we can make set ffrpm a list\u001b[39;00m\n\u001b[0;32m----> 2\u001b[0m s\u001b[38;5;241m=\u001b[39m\u001b[38;5;28;43mset\u001b[39;49m\u001b[43m(\u001b[49m\u001b[43m[\u001b[49m\u001b[38;5;241;43m1\u001b[39;49m\u001b[43m,\u001b[49m\u001b[38;5;241;43m2\u001b[39;49m\u001b[43m,\u001b[49m\u001b[38;5;241;43m3\u001b[39;49m\u001b[43m,\u001b[49m\u001b[38;5;241;43m1\u001b[39;49m\u001b[43m]\u001b[49m\u001b[43m)\u001b[49m\n\u001b[1;32m      3\u001b[0m \u001b[38;5;28mprint\u001b[39m(s)\n",
      "\u001b[0;31mTypeError\u001b[0m: 'set' object is not callable"
     ]
    }
   ],
   "source": [
    "#we can make set ffrpm a list\n",
    "s=set([1,2,3,1])\n",
    "print(s)"
   ]
  },
  {
   "cell_type": "code",
   "execution_count": 200,
   "metadata": {},
   "outputs": [
    {
     "ename": "TypeError",
     "evalue": "'set' object is not callable",
     "output_type": "error",
     "traceback": [
      "\u001b[0;31m---------------------------------------------------------------------------\u001b[0m",
      "\u001b[0;31mTypeError\u001b[0m                                 Traceback (most recent call last)",
      "Cell \u001b[0;32mIn[200], line 1\u001b[0m\n\u001b[0;32m----> 1\u001b[0m s \u001b[38;5;241m=\u001b[39m \u001b[38;5;28;43mset\u001b[39;49m\u001b[43m(\u001b[49m\u001b[43m)\u001b[49m\n\u001b[1;32m      2\u001b[0m \u001b[38;5;28mprint\u001b[39m(\u001b[38;5;28mtype\u001b[39m(s))\n",
      "\u001b[0;31mTypeError\u001b[0m: 'set' object is not callable"
     ]
    }
   ],
   "source": [
    "#initiallising set\n",
    "s = set()\n",
    "print(type(s))\n"
   ]
  },
  {
   "cell_type": "code",
   "execution_count": 201,
   "metadata": {},
   "outputs": [
    {
     "name": "stdout",
     "output_type": "stream",
     "text": [
      "{1, 2, 3}\n"
     ]
    }
   ],
   "source": [
    "#add element to set\n",
    "s={1,2}\n",
    "s.add(3)\n",
    "print(s)"
   ]
  },
  {
   "cell_type": "code",
   "execution_count": 202,
   "metadata": {},
   "outputs": [
    {
     "name": "stdout",
     "output_type": "stream",
     "text": [
      "{1, 2, 3, 4, 5, 6}\n"
     ]
    }
   ],
   "source": [
    "#add multiple elements to set\n",
    "s.update([4,5,6])\n",
    "print(s)"
   ]
  },
  {
   "cell_type": "code",
   "execution_count": 204,
   "metadata": {},
   "outputs": [
    {
     "name": "stdout",
     "output_type": "stream",
     "text": [
      "{1, 2, 3, 4, 5, 6, 7, 8, 9, 10}\n"
     ]
    }
   ],
   "source": [
    "#add list and set\n",
    "s.update([7,8],{9,10})\n",
    "print(s)"
   ]
  },
  {
   "cell_type": "code",
   "execution_count": 205,
   "metadata": {},
   "outputs": [
    {
     "name": "stdout",
     "output_type": "stream",
     "text": [
      "{1, 2, 3, 5, 6, 7, 8, 9, 10}\n"
     ]
    }
   ],
   "source": [
    "#remove an element from list\n",
    "s.discard(4)\n",
    "print(s)"
   ]
  },
  {
   "cell_type": "code",
   "execution_count": 206,
   "metadata": {},
   "outputs": [
    {
     "name": "stdout",
     "output_type": "stream",
     "text": [
      "{1, 3, 5, 6, 7, 8, 9, 10}\n"
     ]
    }
   ],
   "source": [
    "#remove element\n",
    "s.remove(2)\n",
    "print(s)"
   ]
  },
  {
   "cell_type": "code",
   "execution_count": 211,
   "metadata": {},
   "outputs": [
    {
     "name": "stdout",
     "output_type": "stream",
     "text": [
      "{2, 3, 4, 5, 6}\n"
     ]
    }
   ],
   "source": [
    "#pop\n",
    "s={1,2,3,4,5,6}\n",
    "s.pop()\n",
    "print(s)\n"
   ]
  },
  {
   "cell_type": "code",
   "execution_count": 212,
   "metadata": {},
   "outputs": [
    {
     "name": "stdout",
     "output_type": "stream",
     "text": [
      "{1, 2, 3}\n",
      "set()\n"
     ]
    }
   ],
   "source": [
    "#crear : remove all the elements from a set\n",
    "a={1,2,3}\n",
    "print(a)\n",
    "a.clear()\n",
    "print(a)"
   ]
  },
  {
   "cell_type": "markdown",
   "metadata": {},
   "source": [
    "Set operations"
   ]
  },
  {
   "cell_type": "code",
   "execution_count": 214,
   "metadata": {},
   "outputs": [
    {
     "name": "stdout",
     "output_type": "stream",
     "text": [
      "{1, 2, 3, 4, 5}\n",
      "{1, 2, 3, 4, 5}\n"
     ]
    }
   ],
   "source": [
    "#union\n",
    "set1={1,2,3}\n",
    "set2={3,4,5}\n",
    "print(set1 | set2)\n",
    "#or another way\n",
    "print(set1.union(set2))"
   ]
  },
  {
   "cell_type": "code",
   "execution_count": 216,
   "metadata": {},
   "outputs": [
    {
     "name": "stdout",
     "output_type": "stream",
     "text": [
      "{3}\n",
      "{3}\n"
     ]
    }
   ],
   "source": [
    "#intersection\n",
    "print(set1 & set2)\n",
    "#or\n",
    "print(set1.intersection(set2))"
   ]
  },
  {
   "cell_type": "code",
   "execution_count": 218,
   "metadata": {},
   "outputs": [
    {
     "name": "stdout",
     "output_type": "stream",
     "text": [
      "{1, 2}\n"
     ]
    }
   ],
   "source": [
    "#set difference:\n",
    "#items present in a but not b\n",
    "print(set1-set2)"
   ]
  },
  {
   "cell_type": "code",
   "execution_count": 220,
   "metadata": {},
   "outputs": [
    {
     "name": "stdout",
     "output_type": "stream",
     "text": [
      "{1, 2, 4, 5}\n",
      "{1, 2, 4, 5}\n"
     ]
    }
   ],
   "source": [
    "#symetric difference\n",
    "#(AuB)-(AnB)\n",
    "#it removes common element of both the array\n",
    "print(set1^set2)\n",
    "#or\n",
    "print(set1.symmetric_difference(set2))"
   ]
  },
  {
   "cell_type": "code",
   "execution_count": 221,
   "metadata": {},
   "outputs": [
    {
     "name": "stdout",
     "output_type": "stream",
     "text": [
      "True\n"
     ]
    }
   ],
   "source": [
    "#find is-subset\n",
    "set3={3,4}\n",
    "print(set3.issubset(set2))"
   ]
  },
  {
   "cell_type": "code",
   "execution_count": 223,
   "metadata": {},
   "outputs": [
    {
     "ename": "AttributeError",
     "evalue": "'frozenset' object has no attribute 'add'",
     "output_type": "error",
     "traceback": [
      "\u001b[0;31m---------------------------------------------------------------------------\u001b[0m",
      "\u001b[0;31mAttributeError\u001b[0m                            Traceback (most recent call last)",
      "Cell \u001b[0;32mIn[223], line 4\u001b[0m\n\u001b[1;32m      2\u001b[0m set4\u001b[38;5;241m=\u001b[39m\u001b[38;5;28mfrozenset\u001b[39m([\u001b[38;5;241m1\u001b[39m,\u001b[38;5;241m2\u001b[39m,\u001b[38;5;241m3\u001b[39m,\u001b[38;5;241m4\u001b[39m])\n\u001b[1;32m      3\u001b[0m set5\u001b[38;5;241m=\u001b[39m\u001b[38;5;28mfrozenset\u001b[39m([\u001b[38;5;241m3\u001b[39m,\u001b[38;5;241m4\u001b[39m,\u001b[38;5;241m5\u001b[39m,\u001b[38;5;241m6\u001b[39m])\n\u001b[0;32m----> 4\u001b[0m \u001b[43mset4\u001b[49m\u001b[38;5;241;43m.\u001b[39;49m\u001b[43madd\u001b[49m(\u001b[38;5;241m7\u001b[39m)\n",
      "\u001b[0;31mAttributeError\u001b[0m: 'frozenset' object has no attribute 'add'"
     ]
    }
   ],
   "source": [
    "#frozen set  : it does not supports add or remove it supports u , n etc\n",
    "set4=frozenset([1,2,3,4])\n",
    "set5=frozenset([3,4,5,6])\n",
    "set4.add(7)"
   ]
  },
  {
   "cell_type": "markdown",
   "metadata": {},
   "source": [
    "Dictionary or hashtable"
   ]
  },
  {
   "cell_type": "code",
   "execution_count": null,
   "metadata": {},
   "outputs": [],
   "source": [
    "#unordered collection of objects\n",
    "#it has key and valau"
   ]
  },
  {
   "cell_type": "markdown",
   "metadata": {},
   "source": [
    "Strings\n"
   ]
  },
  {
   "cell_type": "code",
   "execution_count": 224,
   "metadata": {},
   "outputs": [
    {
     "name": "stdout",
     "output_type": "stream",
     "text": [
      "{1: 'abc', 2: 'xyz'}\n",
      "{'name': 'stish', 4: 'rahul', 5: ['abc', 'xyz']}\n",
      "{1: 'abc', 2: 'xyz'}\n"
     ]
    }
   ],
   "source": [
    "#dictionary with integers\n",
    "dit={1:'abc',2:'xyz'}\n",
    "print(dit)\n",
    "#dictionary with mixed keys\n",
    "dit={'name':'stish',4:'rahul',5:[\"abc\",\"xyz\"]}\n",
    "print(dit)\n",
    "#create an empty dictionary\n",
    "mydict=dict()\n",
    "#list of tuples\n",
    "mydict=dict([(1,'abc'),(2,'xyz')])\n",
    "print(mydict)"
   ]
  },
  {
   "cell_type": "code",
   "execution_count": 227,
   "metadata": {},
   "outputs": [
    {
     "name": "stdout",
     "output_type": "stream",
     "text": [
      "stish\n",
      "rahul\n"
     ]
    }
   ],
   "source": [
    "#dictionary accessing\n",
    "#this method will print key error if a key is printing but its not there in the dictionary\n",
    "print(dit['name'])\n",
    "#other way\n",
    "# .get method is better because it will not show any errors is key is not present in dictionary\n",
    "print(dit.get(4))"
   ]
  },
  {
   "cell_type": "code",
   "execution_count": 228,
   "metadata": {},
   "outputs": [
    {
     "name": "stdout",
     "output_type": "stream",
     "text": [
      "{'name': 'varun', 4: 'rahul', 5: ['abc', 'xyz']}\n",
      "{'name': 'varun', 4: 'rahul', 5: ['abc', 'xyz'], 'address': 'Bangalore'}\n"
     ]
    }
   ],
   "source": [
    "#change the value\n",
    "dit['name']=\"varun\"\n",
    "print(dit)\n",
    "#to add new ke value\n",
    "dit['address']=\"Bangalore\"\n",
    "print(dit)"
   ]
  },
  {
   "cell_type": "code",
   "execution_count": 237,
   "metadata": {},
   "outputs": [
    {
     "name": "stdout",
     "output_type": "stream",
     "text": [
      "rahul\n",
      "{'name': 'stish', 5: ['abc', 'xyz'], 6: 'hi', 7: 'hid'}\n",
      "{'name': 'stish', 5: ['abc', 'xyz'], 6: 'hi'}\n"
     ]
    }
   ],
   "source": [
    "#delete or remove element\n",
    "dit={'name':'stish',4:'rahul',5:[\"abc\",\"xyz\"],6:\"hi\",7:\"hid\"}\n",
    "#remove a particular item\n",
    "print(dit.pop(4))\n",
    "print(dit)\n",
    "#remove randon key-value pairs in the dictionary\n",
    "dit.popitem()\n",
    "print(dit)"
   ]
  },
  {
   "cell_type": "code",
   "execution_count": 239,
   "metadata": {},
   "outputs": [
    {
     "name": "stdout",
     "output_type": "stream",
     "text": [
      "{'name': 'stish', 5: ['abc', 'xyz'], 6: 'hi', 7: 'hid'}\n",
      "{}\n"
     ]
    }
   ],
   "source": [
    "dit={'name':'stish',4:'rahul',5:[\"abc\",\"xyz\"],6:\"hi\",7:\"hid\"}\n",
    "#delete particular key\n",
    "del dit[4]\n",
    "print(dit)\n",
    "#remove all item\n",
    "dit.clear()\n",
    "print(dit)\n",
    "#remove the dictionary\n",
    "del dit"
   ]
  },
  {
   "cell_type": "code",
   "execution_count": 240,
   "metadata": {},
   "outputs": [
    {
     "name": "stdout",
     "output_type": "stream",
     "text": [
      "{'name': 'stish', 4: 'rahul', 5: ['abc', 'xyz'], 6: 'hi', 7: 'hid'}\n"
     ]
    }
   ],
   "source": [
    "#Dictionary methods\n",
    "#copy\n",
    "dit={'name':'stish',4:'rahul',5:[\"abc\",\"xyz\"],6:\"hi\",7:\"hid\"}\n",
    "dit2=dit.copy()\n",
    "print(dit2)"
   ]
  },
  {
   "cell_type": "code",
   "execution_count": 243,
   "metadata": {},
   "outputs": [
    {
     "name": "stdout",
     "output_type": "stream",
     "text": [
      "{'math': 0, 'English': 0, 'Hindi': 0}\n"
     ]
    }
   ],
   "source": [
    "#formkey\n",
    "#it is used to add a list to a dictionary and add values equally\n",
    "subj={}.fromkeys(['math','English','Hindi'],0)\n",
    "print(subj)"
   ]
  },
  {
   "cell_type": "code",
   "execution_count": 244,
   "metadata": {},
   "outputs": [
    {
     "name": "stdout",
     "output_type": "stream",
     "text": [
      "dict_items([(2, 4), (3, 9), (4, 16), (5, 25)])\n"
     ]
    }
   ],
   "source": [
    "#it prints dict items in new view (key,value)\n",
    "app={2:4,3:9,4:16,5:25}\n",
    "print(app.items())"
   ]
  },
  {
   "cell_type": "code",
   "execution_count": 245,
   "metadata": {},
   "outputs": [
    {
     "name": "stdout",
     "output_type": "stream",
     "text": [
      "dict_keys([2, 3, 4, 5])\n"
     ]
    }
   ],
   "source": [
    "#it prints dict keys\n",
    "app={2:4,3:9,4:16,5:25}\n",
    "print(app.keys())"
   ]
  },
  {
   "cell_type": "code",
   "execution_count": 246,
   "metadata": {},
   "outputs": [
    {
     "name": "stdout",
     "output_type": "stream",
     "text": [
      "dict_values([4, 9, 16, 25])\n"
     ]
    }
   ],
   "source": [
    "#it prints dict values\n",
    "app={2:4,3:9,4:16,5:25}\n",
    "print(app.values())"
   ]
  }
 ],
 "metadata": {
  "kernelspec": {
   "display_name": "base",
   "language": "python",
   "name": "python3"
  },
  "language_info": {
   "codemirror_mode": {
    "name": "ipython",
    "version": 3
   },
   "file_extension": ".py",
   "mimetype": "text/x-python",
   "name": "python",
   "nbconvert_exporter": "python",
   "pygments_lexer": "ipython3",
   "version": "3.10.9"
  }
 },
 "nbformat": 4,
 "nbformat_minor": 2
}
