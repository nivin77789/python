{
 "cells": [
  {
   "cell_type": "code",
   "execution_count": 26,
   "metadata": {},
   "outputs": [
    {
     "name": "stdout",
     "output_type": "stream",
     "text": [
      "you have entered the charecter : hi\n"
     ]
    }
   ],
   "source": [
    "char=input(\"enter a char\\n\")\n",
    "print(\"you have entered the charecter :\",char)"
   ]
  },
  {
   "cell_type": "code",
   "execution_count": 27,
   "metadata": {},
   "outputs": [
    {
     "name": "stdout",
     "output_type": "stream",
     "text": [
      "sum of a and b is : 55.0\n"
     ]
    }
   ],
   "source": [
    "a=input(\"Enter the value of a \")\n",
    "b=input(\"Enter the value of b \")\n",
    "sum=float(a) + float(b)\n",
    "print(\"sum of a and b is :\",sum)"
   ]
  },
  {
   "cell_type": "code",
   "execution_count": 28,
   "metadata": {},
   "outputs": [
    {
     "name": "stdout",
     "output_type": "stream",
     "text": [
      "2.07\n"
     ]
    }
   ],
   "source": [
    "p=input(\"Enter the value of p\")\n",
    "r=input(\"enter the value of r\")\n",
    "n=input(\"enter the value of n\")\n",
    "si=(int(p)*float(r)*float(n))/100\n",
    "print(si)\n"
   ]
  },
  {
   "cell_type": "code",
   "execution_count": 38,
   "metadata": {},
   "outputs": [
    {
     "name": "stdout",
     "output_type": "stream",
     "text": [
      "Failed\n"
     ]
    }
   ],
   "source": [
    "mark=input(\"Enter the maarks\")\n",
    "if int(mark) <=50:\n",
    "    print(\"Failed\")\n",
    "else :\n",
    "    print(\"Passed\")    "
   ]
  },
  {
   "cell_type": "code",
   "execution_count": 30,
   "metadata": {},
   "outputs": [
    {
     "name": "stdout",
     "output_type": "stream",
     "text": [
      "23 X 1 = 23\n",
      "23 X 2 = 46\n",
      "23 X 3 = 69\n",
      "23 X 4 = 92\n",
      "23 X 5 = 115\n",
      "23 X 6 = 138\n",
      "23 X 7 = 161\n",
      "23 X 8 = 184\n",
      "23 X 9 = 207\n",
      "23 X 10 = 230\n"
     ]
    }
   ],
   "source": [
    "num=input(\"Enter the input\")\n",
    "\n",
    "for i in range(10):\n",
    "    print(int(num),\"X\",i+1,\"=\",int(num)*(i+1))"
   ]
  },
  {
   "cell_type": "code",
   "execution_count": 31,
   "metadata": {},
   "outputs": [
    {
     "name": "stdout",
     "output_type": "stream",
     "text": [
      "0\n",
      "0\n",
      "1\n",
      "0\n",
      "1\n",
      "2\n",
      "0\n",
      "1\n",
      "2\n",
      "3\n",
      "0\n",
      "1\n",
      "2\n",
      "3\n",
      "4\n",
      "0\n",
      "1\n",
      "2\n",
      "3\n",
      "4\n",
      "5\n",
      "0\n",
      "1\n",
      "2\n",
      "3\n",
      "4\n",
      "5\n",
      "6\n",
      "0\n",
      "1\n",
      "2\n",
      "3\n",
      "4\n",
      "5\n",
      "6\n",
      "7\n",
      "0\n",
      "1\n",
      "2\n",
      "3\n",
      "4\n",
      "5\n",
      "6\n",
      "7\n",
      "8\n",
      "0\n",
      "1\n",
      "2\n",
      "3\n",
      "4\n",
      "5\n",
      "6\n",
      "7\n",
      "8\n",
      "9\n",
      "0\n",
      "1\n",
      "2\n",
      "3\n",
      "4\n",
      "5\n",
      "6\n",
      "7\n",
      "8\n",
      "9\n",
      "10\n",
      "0\n",
      "1\n",
      "2\n",
      "3\n",
      "4\n",
      "5\n",
      "6\n",
      "7\n",
      "8\n",
      "9\n",
      "10\n",
      "11\n",
      "0\n",
      "1\n",
      "2\n",
      "3\n",
      "4\n",
      "5\n",
      "6\n",
      "7\n",
      "8\n",
      "9\n",
      "10\n",
      "11\n",
      "12\n",
      "0\n",
      "1\n",
      "2\n",
      "3\n",
      "4\n",
      "5\n",
      "6\n",
      "7\n",
      "8\n",
      "9\n",
      "10\n",
      "11\n",
      "12\n",
      "13\n",
      "0\n",
      "1\n",
      "2\n",
      "3\n",
      "4\n",
      "5\n",
      "6\n",
      "7\n",
      "8\n",
      "9\n",
      "10\n",
      "11\n",
      "12\n",
      "13\n",
      "14\n",
      "0\n",
      "1\n",
      "2\n",
      "3\n",
      "4\n",
      "5\n",
      "6\n",
      "7\n",
      "8\n",
      "9\n",
      "10\n",
      "11\n",
      "12\n",
      "13\n",
      "14\n",
      "15\n",
      "0\n",
      "1\n",
      "2\n",
      "3\n",
      "4\n",
      "5\n",
      "6\n",
      "7\n",
      "8\n",
      "9\n",
      "10\n",
      "11\n",
      "12\n",
      "13\n",
      "14\n",
      "15\n",
      "16\n",
      "0\n",
      "1\n",
      "2\n",
      "3\n",
      "4\n",
      "5\n",
      "6\n",
      "7\n",
      "8\n",
      "9\n",
      "10\n",
      "11\n",
      "12\n",
      "13\n",
      "14\n",
      "15\n",
      "16\n",
      "17\n",
      "0\n",
      "1\n",
      "2\n",
      "3\n",
      "4\n",
      "5\n",
      "6\n",
      "7\n",
      "8\n",
      "9\n",
      "10\n",
      "11\n",
      "12\n",
      "13\n",
      "14\n",
      "15\n",
      "16\n",
      "17\n",
      "18\n",
      "0\n",
      "1\n",
      "2\n",
      "3\n",
      "4\n",
      "5\n",
      "6\n",
      "7\n",
      "8\n",
      "9\n",
      "10\n",
      "11\n",
      "12\n",
      "13\n",
      "14\n",
      "15\n",
      "16\n",
      "17\n",
      "18\n",
      "19\n",
      "0\n",
      "1\n",
      "2\n",
      "3\n",
      "4\n",
      "5\n",
      "6\n",
      "7\n",
      "8\n",
      "9\n",
      "10\n",
      "11\n",
      "12\n",
      "13\n",
      "14\n",
      "15\n",
      "16\n",
      "17\n",
      "18\n",
      "19\n",
      "20\n",
      "0\n",
      "1\n",
      "2\n",
      "3\n",
      "4\n",
      "5\n",
      "6\n",
      "7\n",
      "8\n",
      "9\n",
      "10\n",
      "11\n",
      "12\n",
      "13\n",
      "14\n",
      "15\n",
      "16\n",
      "17\n",
      "18\n",
      "19\n",
      "20\n",
      "21\n"
     ]
    }
   ],
   "source": [
    "n=input(\"Enter the size\")\n",
    "for i in range(int(n)):\n",
    "    for j in  range(i):\n",
    "        print(j)"
   ]
  },
  {
   "cell_type": "code",
   "execution_count": 32,
   "metadata": {},
   "outputs": [
    {
     "name": "stdout",
     "output_type": "stream",
     "text": [
      "<class 'list'>\n",
      "<class 'set'>\n"
     ]
    }
   ],
   "source": [
    "a = [1, 2, 3]\n",
    "print(type(a))  # Output: <class 'list'>\n",
    "\n",
    "# Rename the variable to something other than 'set'\n",
    "s = set(a)\n",
    "print(type(s))  # Output: <class 'set'>3"
   ]
  },
  {
   "cell_type": "code",
   "execution_count": 33,
   "metadata": {},
   "outputs": [
    {
     "data": {
      "text/plain": [
       "['H', 'e', 'l', 'l', 'o']"
      ]
     },
     "execution_count": 33,
     "metadata": {},
     "output_type": "execute_result"
    }
   ],
   "source": [
    "list('Hello')"
   ]
  },
  {
   "cell_type": "code",
   "execution_count": 43,
   "metadata": {},
   "outputs": [
    {
     "name": "stdout",
     "output_type": "stream",
     "text": [
      "Fail\n"
     ]
    }
   ],
   "source": [
    "getMark=input(\"Enter the total mark percentage\")\n",
    "mark=int(getMark)\n",
    "if mark>90 and mark <100:\n",
    "    print(\"A\")\n",
    "    \n",
    "elif mark>80 and mark<90:\n",
    "    print(\"B\")    \n",
    "elif mark>70 and mark<80:\n",
    "    print(\"C\")    \n",
    "elif mark>60 and mark<70:\n",
    "    print(\"D\")    \n",
    "elif mark>50 and mark<60:\n",
    "    print(\"E\")    \n",
    "elif mark<50:\n",
    "    print(\"Fail\")"
   ]
  },
  {
   "cell_type": "code",
   "execution_count": 44,
   "metadata": {},
   "outputs": [
    {
     "name": "stdout",
     "output_type": "stream",
     "text": [
      "Wednesday\n"
     ]
    }
   ],
   "source": [
    "def switch_case(choice):\n",
    "    if choice == 1:\n",
    "        print(\"Sunday\")\n",
    "    elif choice == 2:\n",
    "        print(\"Monday\")\n",
    "    elif choice == 3:\n",
    "        print(\"Tuesday\")\n",
    "    elif choice == 4:\n",
    "        print(\"Wednesday\")\n",
    "    elif choice == 5:\n",
    "        print(\"Thursday\")\n",
    "    elif choice == 6:\n",
    "        print(\"Friday\")\n",
    "    elif choice == 7:\n",
    "        print(\"Saturday\")\n",
    "       \n",
    "    else:\n",
    "        print(\"Invalid choice\")\n",
    "        return  \n",
    "\n",
    "\n",
    "choice = int(input(\"Enter your choice: \"))\n",
    "\n",
    "switch_case(choice)"
   ]
  },
  {
   "cell_type": "code",
   "execution_count": 47,
   "metadata": {},
   "outputs": [
    {
     "name": "stdout",
     "output_type": "stream",
     "text": [
      "1 \n",
      "1 2 \n",
      "1 2 3 \n",
      "1 2 3 4 \n",
      "1 2 3 4 5 \n"
     ]
    }
   ],
   "source": [
    "for i in range(1,6):\n",
    "    for j in range(1,i+1):\n",
    "        print(j,end=\" \")\n",
    "    print()    "
   ]
  },
  {
   "cell_type": "code",
   "execution_count": 56,
   "metadata": {},
   "outputs": [
    {
     "name": "stdout",
     "output_type": "stream",
     "text": [
      "Array1  [10, 20, 30, 40, 50]\n",
      "Array2  [10, 20, 30, 40, 50, 60]\n"
     ]
    }
   ],
   "source": [
    "elements=int(input(\"Enter the Size of array\"))\n",
    "array1 = []\n",
    "for element in range(elements):\n",
    "    element=int(input())\n",
    "    array1.append(element)\n",
    "array2=array1.copy()\n",
    "array2.append(int(input(\"enter an element for array 2\")))\n",
    "print(\"Array1 \",array1)\n",
    "print (\"Array2 \",array2)"
   ]
  },
  {
   "cell_type": "code",
   "execution_count": 65,
   "metadata": {},
   "outputs": [
    {
     "name": "stdout",
     "output_type": "stream",
     "text": [
      "palindrom\n"
     ]
    }
   ],
   "source": [
    "str=\"malayalam\"\n",
    "n=len(str)\n",
    "for i in range(n//2):\n",
    "    if str[i]!=str[n-1]:\n",
    "        print(\"not a palindron\")\n",
    "        break\n",
    "    n-=1\n",
    "else :\n",
    "    print(\"palindrom\")    "
   ]
  },
  {
   "cell_type": "code",
   "execution_count": 77,
   "metadata": {},
   "outputs": [
    {
     "name": "stdout",
     "output_type": "stream",
     "text": [
      "7 8 9 10 \n",
      "4 5 6 \n",
      "2 3 \n",
      "1 \n"
     ]
    }
   ],
   "source": [
    "import math\n",
    "l=n=int(4)\n",
    "r=int(14)\n",
    "for i in range(n):\n",
    "    r=math.ceil(r/2)\n",
    "    k=r\n",
    "    for j in range(l):\n",
    "        \n",
    "        print(k, end=\" \")\n",
    "        k+=1\n",
    "    l-=1    \n",
    "    print()\n"
   ]
  },
  {
   "cell_type": "code",
   "execution_count": 81,
   "metadata": {},
   "outputs": [
    {
     "name": "stdout",
     "output_type": "stream",
     "text": [
      "Array 1:\n",
      "[[1, 2, 3], [4, 5, 6], [7, 8, 9]]\n",
      "Array 2:\n",
      "[[10, 11, 12], [13, 14, 15], [16, 17, 18]]\n",
      "Array after adding both the array :\n",
      "[[11, 13, 15], [17, 19, 21], [23, 25, 27]]\n"
     ]
    }
   ],
   "source": [
    "array1 = []\n",
    "array2 = []\n",
    "cols=rows=3\n",
    "\n",
    "for i in range(rows):\n",
    "    row = []\n",
    "    for j in range(cols):\n",
    "        element = int(input())\n",
    "        row.append(element)\n",
    "    array1.append(row)\n",
    "print(\"Array 1:\")\n",
    "print(array1)\n",
    "\n",
    "for i in range(rows):\n",
    "    row = []\n",
    "    for j in range(cols):\n",
    "        element = int(input())\n",
    "        row.append(element)\n",
    "    array2.append(row)\n",
    "print(\"Array 2:\")\n",
    "print(array2)\n",
    "\n",
    "for i in range(3):\n",
    "    for j in range(3):\n",
    "        array2[i][j]=array1[i][j]+array2[i][j]\n",
    "print(\"Array after adding both the array :\")\n",
    "print(array2)        \n",
    "       \n"
   ]
  },
  {
   "cell_type": "code",
   "execution_count": 82,
   "metadata": {},
   "outputs": [
    {
     "name": "stdout",
     "output_type": "stream",
     "text": [
      "Grade of the student is : 61.8\n"
     ]
    }
   ],
   "source": [
    "test=int(input(\"Enter the Written test score\"))\n",
    "exam=int(input(\"Enter the Written exam score\"))\n",
    "ass=int(input(\"Enter the Written assignment score\"))\n",
    "\n",
    "total=(test*70)/100+(exam*20)/100+(ass*10)/100\n",
    "print(\"Grade of the student is : {}\".format(total))"
   ]
  }
 ],
 "metadata": {
  "kernelspec": {
   "display_name": "base",
   "language": "python",
   "name": "python3"
  },
  "language_info": {
   "codemirror_mode": {
    "name": "ipython",
    "version": 3
   },
   "file_extension": ".py",
   "mimetype": "text/x-python",
   "name": "python",
   "nbconvert_exporter": "python",
   "pygments_lexer": "ipython3",
   "version": "3.10.9"
  }
 },
 "nbformat": 4,
 "nbformat_minor": 2
}
