{
 "cells": [
  {
   "cell_type": "code",
   "execution_count": 26,
   "metadata": {},
   "outputs": [
    {
     "name": "stdout",
     "output_type": "stream",
     "text": [
      "you have entered the charecter : hi\n"
     ]
    }
   ],
   "source": [
    "char=input(\"enter a char\\n\")\n",
    "print(\"you have entered the charecter :\",char)"
   ]
  },
  {
   "cell_type": "code",
   "execution_count": 27,
   "metadata": {},
   "outputs": [
    {
     "name": "stdout",
     "output_type": "stream",
     "text": [
      "sum of a and b is : 55.0\n"
     ]
    }
   ],
   "source": [
    "a=input(\"Enter the value of a \")\n",
    "b=input(\"Enter the value of b \")\n",
    "sum=float(a) + float(b)\n",
    "print(\"sum of a and b is :\",sum)"
   ]
  },
  {
   "cell_type": "code",
   "execution_count": 28,
   "metadata": {},
   "outputs": [
    {
     "name": "stdout",
     "output_type": "stream",
     "text": [
      "2.07\n"
     ]
    }
   ],
   "source": [
    "p=input(\"Enter the value of p\")\n",
    "r=input(\"enter the value of r\")\n",
    "n=input(\"enter the value of n\")\n",
    "si=(int(p)*float(r)*float(n))/100\n",
    "print(si)\n"
   ]
  },
  {
   "cell_type": "code",
   "execution_count": 38,
   "metadata": {},
   "outputs": [
    {
     "name": "stdout",
     "output_type": "stream",
     "text": [
      "Failed\n"
     ]
    }
   ],
   "source": [
    "mark=input(\"Enter the maarks\")\n",
    "if int(mark) <=50:\n",
    "    print(\"Failed\")\n",
    "else :\n",
    "    print(\"Passed\")    "
   ]
  },
  {
   "cell_type": "code",
   "execution_count": 30,
   "metadata": {},
   "outputs": [
    {
     "name": "stdout",
     "output_type": "stream",
     "text": [
      "23 X 1 = 23\n",
      "23 X 2 = 46\n",
      "23 X 3 = 69\n",
      "23 X 4 = 92\n",
      "23 X 5 = 115\n",
      "23 X 6 = 138\n",
      "23 X 7 = 161\n",
      "23 X 8 = 184\n",
      "23 X 9 = 207\n",
      "23 X 10 = 230\n"
     ]
    }
   ],
   "source": [
    "num=input(\"Enter the input\")\n",
    "\n",
    "for i in range(10):\n",
    "    print(int(num),\"X\",i+1,\"=\",int(num)*(i+1))"
   ]
  },
  {
   "cell_type": "code",
   "execution_count": 31,
   "metadata": {},
   "outputs": [
    {
     "name": "stdout",
     "output_type": "stream",
     "text": [
      "0\n",
      "0\n",
      "1\n",
      "0\n",
      "1\n",
      "2\n",
      "0\n",
      "1\n",
      "2\n",
      "3\n",
      "0\n",
      "1\n",
      "2\n",
      "3\n",
      "4\n",
      "0\n",
      "1\n",
      "2\n",
      "3\n",
      "4\n",
      "5\n",
      "0\n",
      "1\n",
      "2\n",
      "3\n",
      "4\n",
      "5\n",
      "6\n",
      "0\n",
      "1\n",
      "2\n",
      "3\n",
      "4\n",
      "5\n",
      "6\n",
      "7\n",
      "0\n",
      "1\n",
      "2\n",
      "3\n",
      "4\n",
      "5\n",
      "6\n",
      "7\n",
      "8\n",
      "0\n",
      "1\n",
      "2\n",
      "3\n",
      "4\n",
      "5\n",
      "6\n",
      "7\n",
      "8\n",
      "9\n",
      "0\n",
      "1\n",
      "2\n",
      "3\n",
      "4\n",
      "5\n",
      "6\n",
      "7\n",
      "8\n",
      "9\n",
      "10\n",
      "0\n",
      "1\n",
      "2\n",
      "3\n",
      "4\n",
      "5\n",
      "6\n",
      "7\n",
      "8\n",
      "9\n",
      "10\n",
      "11\n",
      "0\n",
      "1\n",
      "2\n",
      "3\n",
      "4\n",
      "5\n",
      "6\n",
      "7\n",
      "8\n",
      "9\n",
      "10\n",
      "11\n",
      "12\n",
      "0\n",
      "1\n",
      "2\n",
      "3\n",
      "4\n",
      "5\n",
      "6\n",
      "7\n",
      "8\n",
      "9\n",
      "10\n",
      "11\n",
      "12\n",
      "13\n",
      "0\n",
      "1\n",
      "2\n",
      "3\n",
      "4\n",
      "5\n",
      "6\n",
      "7\n",
      "8\n",
      "9\n",
      "10\n",
      "11\n",
      "12\n",
      "13\n",
      "14\n",
      "0\n",
      "1\n",
      "2\n",
      "3\n",
      "4\n",
      "5\n",
      "6\n",
      "7\n",
      "8\n",
      "9\n",
      "10\n",
      "11\n",
      "12\n",
      "13\n",
      "14\n",
      "15\n",
      "0\n",
      "1\n",
      "2\n",
      "3\n",
      "4\n",
      "5\n",
      "6\n",
      "7\n",
      "8\n",
      "9\n",
      "10\n",
      "11\n",
      "12\n",
      "13\n",
      "14\n",
      "15\n",
      "16\n",
      "0\n",
      "1\n",
      "2\n",
      "3\n",
      "4\n",
      "5\n",
      "6\n",
      "7\n",
      "8\n",
      "9\n",
      "10\n",
      "11\n",
      "12\n",
      "13\n",
      "14\n",
      "15\n",
      "16\n",
      "17\n",
      "0\n",
      "1\n",
      "2\n",
      "3\n",
      "4\n",
      "5\n",
      "6\n",
      "7\n",
      "8\n",
      "9\n",
      "10\n",
      "11\n",
      "12\n",
      "13\n",
      "14\n",
      "15\n",
      "16\n",
      "17\n",
      "18\n",
      "0\n",
      "1\n",
      "2\n",
      "3\n",
      "4\n",
      "5\n",
      "6\n",
      "7\n",
      "8\n",
      "9\n",
      "10\n",
      "11\n",
      "12\n",
      "13\n",
      "14\n",
      "15\n",
      "16\n",
      "17\n",
      "18\n",
      "19\n",
      "0\n",
      "1\n",
      "2\n",
      "3\n",
      "4\n",
      "5\n",
      "6\n",
      "7\n",
      "8\n",
      "9\n",
      "10\n",
      "11\n",
      "12\n",
      "13\n",
      "14\n",
      "15\n",
      "16\n",
      "17\n",
      "18\n",
      "19\n",
      "20\n",
      "0\n",
      "1\n",
      "2\n",
      "3\n",
      "4\n",
      "5\n",
      "6\n",
      "7\n",
      "8\n",
      "9\n",
      "10\n",
      "11\n",
      "12\n",
      "13\n",
      "14\n",
      "15\n",
      "16\n",
      "17\n",
      "18\n",
      "19\n",
      "20\n",
      "21\n"
     ]
    }
   ],
   "source": [
    "n=input(\"Enter the size\")\n",
    "for i in range(int(n)):\n",
    "    for j in  range(i):\n",
    "        print(j)"
   ]
  },
  {
   "cell_type": "code",
   "execution_count": 32,
   "metadata": {},
   "outputs": [
    {
     "name": "stdout",
     "output_type": "stream",
     "text": [
      "<class 'list'>\n",
      "<class 'set'>\n"
     ]
    }
   ],
   "source": [
    "a = [1, 2, 3]\n",
    "print(type(a))  # Output: <class 'list'>\n",
    "\n",
    "# Rename the variable to something other than 'set'\n",
    "s = set(a)\n",
    "print(type(s))  # Output: <class 'set'>3"
   ]
  },
  {
   "cell_type": "code",
   "execution_count": 33,
   "metadata": {},
   "outputs": [
    {
     "data": {
      "text/plain": [
       "['H', 'e', 'l', 'l', 'o']"
      ]
     },
     "execution_count": 33,
     "metadata": {},
     "output_type": "execute_result"
    }
   ],
   "source": [
    "list('Hello')"
   ]
  },
  {
   "cell_type": "code",
   "execution_count": 43,
   "metadata": {},
   "outputs": [
    {
     "name": "stdout",
     "output_type": "stream",
     "text": [
      "Fail\n"
     ]
    }
   ],
   "source": [
    "getMark=input(\"Enter the total mark percentage\")\n",
    "mark=int(getMark)\n",
    "if mark>90 and mark <100:\n",
    "    print(\"A\")\n",
    "    \n",
    "elif mark>80 and mark<90:\n",
    "    print(\"B\")    \n",
    "elif mark>70 and mark<80:\n",
    "    print(\"C\")    \n",
    "elif mark>60 and mark<70:\n",
    "    print(\"D\")    \n",
    "elif mark>50 and mark<60:\n",
    "    print(\"E\")    \n",
    "elif mark<50:\n",
    "    print(\"Fail\")"
   ]
  },
  {
   "cell_type": "code",
   "execution_count": 44,
   "metadata": {},
   "outputs": [
    {
     "name": "stdout",
     "output_type": "stream",
     "text": [
      "Wednesday\n"
     ]
    }
   ],
   "source": [
    "def switch_case(choice):\n",
    "    if choice == 1:\n",
    "        print(\"Sunday\")\n",
    "    elif choice == 2:\n",
    "        print(\"Monday\")\n",
    "    elif choice == 3:\n",
    "        print(\"Tuesday\")\n",
    "    elif choice == 4:\n",
    "        print(\"Wednesday\")\n",
    "    elif choice == 5:\n",
    "        print(\"Thursday\")\n",
    "    elif choice == 6:\n",
    "        print(\"Friday\")\n",
    "    elif choice == 7:\n",
    "        print(\"Saturday\")\n",
    "       \n",
    "    else:\n",
    "        print(\"Invalid choice\")\n",
    "        return  \n",
    "\n",
    "\n",
    "choice = int(input(\"Enter your choice: \"))\n",
    "\n",
    "switch_case(choice)"
   ]
  },
  {
   "cell_type": "code",
   "execution_count": 47,
   "metadata": {},
   "outputs": [
    {
     "name": "stdout",
     "output_type": "stream",
     "text": [
      "1 \n",
      "1 2 \n",
      "1 2 3 \n",
      "1 2 3 4 \n",
      "1 2 3 4 5 \n"
     ]
    }
   ],
   "source": [
    "for i in range(1,6):\n",
    "    for j in range(1,i+1):\n",
    "        print(j,end=\" \")\n",
    "    print()    "
   ]
  },
  {
   "cell_type": "code",
   "execution_count": 56,
   "metadata": {},
   "outputs": [
    {
     "name": "stdout",
     "output_type": "stream",
     "text": [
      "Array1  [10, 20, 30, 40, 50]\n",
      "Array2  [10, 20, 30, 40, 50, 60]\n"
     ]
    }
   ],
   "source": [
    "elements=int(input(\"Enter the Size of array\"))\n",
    "array1 = []\n",
    "for element in range(elements):\n",
    "    element=int(input())\n",
    "    array1.append(element)\n",
    "array2=array1.copy()\n",
    "array2.append(int(input(\"enter an element for array 2\")))\n",
    "print(\"Array1 \",array1)\n",
    "print (\"Array2 \",array2)"
   ]
  },
  {
   "cell_type": "code",
   "execution_count": 65,
   "metadata": {},
   "outputs": [
    {
     "name": "stdout",
     "output_type": "stream",
     "text": [
      "palindrom\n"
     ]
    }
   ],
   "source": [
    "str=\"malayalam\"\n",
    "n=len(str)\n",
    "for i in range(n//2):\n",
    "    if str[i]!=str[n-1]:\n",
    "        print(\"not a palindron\")\n",
    "        break\n",
    "    n-=1\n",
    "else :\n",
    "    print(\"palindrom\")    "
   ]
  },
  {
   "cell_type": "code",
   "execution_count": 77,
   "metadata": {},
   "outputs": [
    {
     "name": "stdout",
     "output_type": "stream",
     "text": [
      "7 8 9 10 \n",
      "4 5 6 \n",
      "2 3 \n",
      "1 \n"
     ]
    }
   ],
   "source": [
    "import math\n",
    "l=n=int(4)\n",
    "r=int(14)\n",
    "for i in range(n):\n",
    "    r=math.ceil(r/2)\n",
    "    k=r\n",
    "    for j in range(l):\n",
    "        \n",
    "        print(k, end=\" \")\n",
    "        k+=1\n",
    "    l-=1    \n",
    "    print()\n"
   ]
  },
  {
   "cell_type": "code",
   "execution_count": 81,
   "metadata": {},
   "outputs": [
    {
     "name": "stdout",
     "output_type": "stream",
     "text": [
      "Array 1:\n",
      "[[1, 2, 3], [4, 5, 6], [7, 8, 9]]\n",
      "Array 2:\n",
      "[[10, 11, 12], [13, 14, 15], [16, 17, 18]]\n",
      "Array after adding both the array :\n",
      "[[11, 13, 15], [17, 19, 21], [23, 25, 27]]\n"
     ]
    }
   ],
   "source": [
    "array1 = []\n",
    "array2 = []\n",
    "cols=rows=3\n",
    "\n",
    "for i in range(rows):\n",
    "    row = []\n",
    "    for j in range(cols):\n",
    "        element = int(input())\n",
    "        row.append(element)\n",
    "    array1.append(row)\n",
    "print(\"Array 1:\")\n",
    "print(array1)\n",
    "\n",
    "for i in range(rows):\n",
    "    row = []\n",
    "    for j in range(cols):\n",
    "        element = int(input())\n",
    "        row.append(element)\n",
    "    array2.append(row)\n",
    "print(\"Array 2:\")\n",
    "print(array2)\n",
    "\n",
    "for i in range(3):\n",
    "    for j in range(3):\n",
    "        array2[i][j]=array1[i][j]+array2[i][j]\n",
    "print(\"Array after adding both the array :\")\n",
    "print(array2)        \n",
    "       \n"
   ]
  },
  {
   "cell_type": "code",
   "execution_count": 82,
   "metadata": {},
   "outputs": [
    {
     "name": "stdout",
     "output_type": "stream",
     "text": [
      "Grade of the student is : 61.8\n"
     ]
    }
   ],
   "source": [
    "test=int(input(\"Enter the Written test score\"))\n",
    "exam=int(input(\"Enter the Written exam score\"))\n",
    "ass=int(input(\"Enter the Written assignment score\"))\n",
    "\n",
    "total=(test*70)/100+(exam*20)/100+(ass*10)/100\n",
    "print(\"Grade of the student is : {}\".format(total))"
   ]
  },
  {
   "cell_type": "code",
   "execution_count": 88,
   "metadata": {},
   "outputs": [
    {
     "name": "stdout",
     "output_type": "stream",
     "text": [
      "['1*2=1', '2*2=4', '3*2=9', '4*2=16', '5*2=25', '6*2=36', '7*2=49', '8*2=64', '9*2=81', '10*2=100', '11*2=121', '12*2=144', '13*2=169', '14*2=196', '15*2=225', '16*2=256', '17*2=289', '18*2=324', '19*2=361', '20*2=400', '21*2=441', '22*2=484', '23*2=529', '24*2=576', '25*2=625']\n"
     ]
    }
   ],
   "source": [
    "lst=[f\"{i}*2={i**2}\" for i in range(1,26)]\n",
    "print(lst)"
   ]
  },
  {
   "cell_type": "code",
   "execution_count": 89,
   "metadata": {},
   "outputs": [
    {
     "name": "stdout",
     "output_type": "stream",
     "text": [
      "<class 'set'>\n"
     ]
    }
   ],
   "source": [
    "s = set()\n",
    "print(type(s))"
   ]
  },
  {
   "cell_type": "code",
   "execution_count": 94,
   "metadata": {},
   "outputs": [
    {
     "name": "stdout",
     "output_type": "stream",
     "text": [
      "palindrom\n"
     ]
    }
   ],
   "source": [
    "#check string is palendrom or not\n",
    "s1=\"nivin\"\n",
    "s2=reversed(s1.lower())\n",
    "if list(s1)==list(s2):\n",
    "    print(\"palindrom\")\n",
    "else:\n",
    "    print(\"Not a palindrom\")    "
   ]
  },
  {
   "cell_type": "code",
   "execution_count": 95,
   "metadata": {},
   "outputs": [
    {
     "name": "stdout",
     "output_type": "stream",
     "text": [
      "25\n"
     ]
    }
   ],
   "source": [
    "#user defined function to return square of a number\n",
    "def square(n):\n",
    "    return n**2\n",
    "print(square(5))"
   ]
  },
  {
   "cell_type": "code",
   "execution_count": 96,
   "metadata": {},
   "outputs": [
    {
     "name": "stdout",
     "output_type": "stream",
     "text": [
      "25\n"
     ]
    }
   ],
   "source": [
    "#lambda function to print square of a number\n",
    "sqr=lambda n : n**2\n",
    "print(sqr(5))"
   ]
  },
  {
   "cell_type": "code",
   "execution_count": 98,
   "metadata": {},
   "outputs": [
    {
     "name": "stdout",
     "output_type": "stream",
     "text": [
      "8.8\n"
     ]
    }
   ],
   "source": [
    "#using Arbitary argument\n",
    "def sum_numbers(*values):\n",
    "    sum=0\n",
    "    for i in values:\n",
    "        sum+=i\n",
    "    return sum\n",
    "print(sum_numbers(1.1,2.2,5.5))    "
   ]
  },
  {
   "cell_type": "code",
   "execution_count": 103,
   "metadata": {},
   "outputs": [
    {
     "name": "stdout",
     "output_type": "stream",
     "text": [
      "{'NFLX': 4950, 'TREX': 2400}\n"
     ]
    }
   ],
   "source": [
    "dict1={\"NFLX\":4950,\"TREX\":2400,\"FIZZ\":1800, \"XPO\":1700}\n",
    "dict2={k:v for k,v in dict1.items() if v>2000}\n",
    "print(dict2)"
   ]
  },
  {
   "cell_type": "code",
   "execution_count": 104,
   "metadata": {},
   "outputs": [
    {
     "name": "stdout",
     "output_type": "stream",
     "text": [
      "\n",
      "Menu:\n",
      "1. Butter chicken\n",
      "2. Chicken and chips\n",
      "3. Pizza\n",
      "4. Egg sandwich\n",
      "5. Beans on toast\n",
      "6. Spam a la tin\n",
      "0. Exit\n",
      "Successfully cooked Butter chicken!\n",
      "Current pantry items and quantities:\n",
      "chicken: 499\n",
      "lemon: 1\n",
      "cumin: 23\n",
      "paprika: 17\n",
      "chilli powder: 6\n",
      "yogurt: 299\n",
      "oil: 449\n",
      "onion: 4\n",
      "garlic: 8\n",
      "ginger: 1\n",
      "tomato puree: 124\n",
      "almonds: 74\n",
      "rice: 499\n",
      "coriander: 19\n",
      "lime: 2\n",
      "pepper: 8\n",
      "egg: 6\n",
      "pizza: 2\n",
      "spam: 1\n",
      "\n",
      "Menu:\n",
      "1. Butter chicken\n",
      "2. Chicken and chips\n",
      "3. Pizza\n",
      "4. Egg sandwich\n",
      "5. Beans on toast\n",
      "6. Spam a la tin\n",
      "0. Exit\n"
     ]
    }
   ],
   "source": [
    "pantry = {\n",
    "    \"chicken\": 500,\n",
    "    \"lemon\": 2,\n",
    "    \"cumin\": 24,\n",
    "    \"paprika\": 18,\n",
    "    \"chilli powder\": 7,\n",
    "    \"yogurt\": 300,\n",
    "    \"oil\": 450,\n",
    "    \"onion\": 5,\n",
    "    \"garlic\": 9,\n",
    "    \"ginger\": 2,\n",
    "    \"tomato puree\": 125,\n",
    "    \"almonds\": 75,\n",
    "    \"rice\": 500,\n",
    "    \"coriander\": 20,\n",
    "    \"lime\": 3,\n",
    "    \"pepper\": 8,\n",
    "    \"egg\": 6,\n",
    "    \"pizza\": 2,\n",
    "    \"spam\": 1,\n",
    "}\n",
    "\n",
    "recipes = {\n",
    "    \"Butter chicken\": [\n",
    "        \"chicken\",\n",
    "        \"lemon\",\n",
    "        \"cumin\",\n",
    "        \"paprika\",\n",
    "        \"chilli powder\",\n",
    "        \"yogurt\",\n",
    "        \"oil\",\n",
    "        \"onion\",\n",
    "        \"garlic\",\n",
    "        \"ginger\",\n",
    "        \"tomato puree\",\n",
    "        \"almonds\",\n",
    "        \"rice\",\n",
    "        \"coriander\",\n",
    "        \"lime\",\n",
    "    ],\n",
    "    \"Chicken and chips\": [\n",
    "        \"chicken\",\n",
    "        \"potatoes\",\n",
    "        \"salt\",\n",
    "        \"malt vinegar\",\n",
    "    ],\n",
    "    \"Pizza\": [\n",
    "        \"pizza\",\n",
    "    ],\n",
    "    \"Egg sandwich\": [\n",
    "        \"egg\",\n",
    "        \"bread\",\n",
    "        \"butter\",\n",
    "    ],\n",
    "    \"Beans on toast\": [\n",
    "        \"beans\",\n",
    "        \"bread\",\n",
    "    ],\n",
    "    \"Spam a la tin\": [\n",
    "        \"spam\",\n",
    "        \"tin opener\",\n",
    "        \"spoon\",\n",
    "    ],\n",
    "}\n",
    "\n",
    "def cook_recipe(recipe_name):\n",
    "    recipe_ingredients = recipes.get(recipe_name)\n",
    "    if recipe_ingredients:\n",
    "        for ingredient in recipe_ingredients:\n",
    "            if ingredient in pantry and pantry[ingredient] > 0:\n",
    "                pantry[ingredient] -= 1\n",
    "            else:\n",
    "                print(f\"Insufficient quantity of {ingredient} in the pantry.\")\n",
    "                return\n",
    "        print(f\"Successfully cooked {recipe_name}!\")\n",
    "    else:\n",
    "        print(\"Recipe not found.\")\n",
    "\n",
    "def display_pantry():\n",
    "    print(\"Current pantry items and quantities:\")\n",
    "    for item, quantity in pantry.items():\n",
    "        print(f\"{item}: {quantity}\")\n",
    "\n",
    "def display_menu():\n",
    "    print(\"\\nMenu:\")\n",
    "    for i, recipe in enumerate(recipes, 1):\n",
    "        print(f\"{i}. {recipe}\")\n",
    "    print(\"0. Exit\")\n",
    "\n",
    "def main():\n",
    "    while True:\n",
    "        display_menu()\n",
    "        choice = input(\"Choose a recipe (enter number) or 0 to exit: \")\n",
    "        if choice == '0':\n",
    "            break\n",
    "        elif choice.isdigit() and 0 < int(choice) <= len(recipes):\n",
    "            recipe_index = int(choice) - 1\n",
    "            recipe_name = list(recipes.keys())[recipe_index]\n",
    "            cook_recipe(recipe_name)\n",
    "            display_pantry()\n",
    "        else:\n",
    "            print(\"Invalid choice. Please enter a valid number.\")\n",
    "\n",
    "if __name__ == \"__main__\":\n",
    "    main()\n"
   ]
  },
  {
   "cell_type": "code",
   "execution_count": 107,
   "metadata": {},
   "outputs": [
    {
     "name": "stdout",
     "output_type": "stream",
     "text": [
      "Name: Nivin\n",
      "Account Number: 123456789\n",
      "\n",
      "Updated Name: vikram\n",
      "Updated Account Number: 987654321\n"
     ]
    }
   ],
   "source": [
    "class BankAccount:\n",
    "    def __init__(self, name, account_number):\n",
    "        self.__name = name\n",
    "        self.__account_number = account_number\n",
    "\n",
    "    @property\n",
    "    def name(self):\n",
    "        return self.__name\n",
    "\n",
    "    @name.setter\n",
    "    def name(self, new_name):\n",
    "        self.__name = new_name\n",
    "\n",
    "    @property\n",
    "    def account_number(self):\n",
    "        return self.__account_number\n",
    "\n",
    "    @account_number.setter\n",
    "    def account_number(self, new_account_number):\n",
    "        self.__account_number = new_account_number\n",
    "    \n",
    "account = BankAccount(\"Nivin\", \"123456789\")\n",
    "print(\"Name:\", account.name)\n",
    "print(\"Account Number:\", account.account_number)\n",
    "account.name = \"vikram\"\n",
    "account.account_number = \"987654321\"\n",
    "print(\"\\nUpdated Name:\", account.name)\n",
    "print(\"Updated Account Number:\", account.account_number)\n"
   ]
  },
  {
   "cell_type": "code",
   "execution_count": 108,
   "metadata": {},
   "outputs": [
    {
     "name": "stdout",
     "output_type": "stream",
     "text": [
      "First Home:\n",
      "Area of room1: 10000\n",
      "Area of kitchen: 5973136\n",
      "Area of study room: 30000\n",
      "\n",
      "Second Home:\n",
      "Area of room1: 10000\n",
      "Area of kitchen: 5973136\n",
      "Area of work area: 15000\n"
     ]
    }
   ],
   "source": [
    "class Home:\n",
    "    def __init__(self):\n",
    "        pass\n",
    "\n",
    "    def room1(self):\n",
    "        width = 100\n",
    "        breadth = 100\n",
    "        print('Area of room1:', width * breadth)\n",
    "\n",
    "    def kitchen(self):\n",
    "        width = 1222\n",
    "        breadth = 4888\n",
    "        print('Area of kitchen:', width * breadth)\n",
    "\n",
    "\n",
    "class FirstHome(Home):\n",
    "    def study_room(self):\n",
    "        width = 200\n",
    "        breadth = 150\n",
    "        print('Area of study room:', width * breadth)\n",
    "\n",
    "\n",
    "class SecondHome(Home):\n",
    "    def work_area(self):\n",
    "        width = 150\n",
    "        breadth = 100\n",
    "        print('Area of work area:', width * breadth)\n",
    "\n",
    "\n",
    "if __name__ == \"__main__\":\n",
    "    first_home = FirstHome()\n",
    "    second_home = SecondHome()\n",
    "\n",
    "    print(\"First Home:\")\n",
    "    first_home.room1()\n",
    "    first_home.kitchen()\n",
    "    first_home.study_room()\n",
    "\n",
    "    print(\"\\nSecond Home:\")\n",
    "    second_home.room1()\n",
    "    second_home.kitchen()\n",
    "    second_home.work_area()\n"
   ]
  },
  {
   "cell_type": "code",
   "execution_count": 109,
   "metadata": {},
   "outputs": [
    {
     "name": "stdout",
     "output_type": "stream",
     "text": [
      "Addition: 8\n",
      "Subtraction: 2\n",
      "Multiplication: 15\n",
      "Division: 1.6666666666666667\n"
     ]
    }
   ],
   "source": [
    "from abc import ABC, abstractmethod\n",
    "\n",
    "class Calculator(ABC):\n",
    "    def __init__(self, id, name):\n",
    "        self.id = id\n",
    "        self.name = name\n",
    "\n",
    "    @abstractmethod\n",
    "    def add(self, num1, num2):\n",
    "        pass\n",
    "\n",
    "    @abstractmethod\n",
    "    def sub(self, num1, num2):\n",
    "        pass\n",
    "\n",
    "    @abstractmethod\n",
    "    def mul(self, num1, num2):\n",
    "        pass\n",
    "\n",
    "    @abstractmethod\n",
    "    def div(self, num1, num2):\n",
    "        pass\n",
    "\n",
    "class BasicCalculator(Calculator):\n",
    "    def add(self, num1, num2):\n",
    "        return num1 + num2\n",
    "\n",
    "    def sub(self, num1, num2):\n",
    "        return num1 - num2\n",
    "\n",
    "    def mul(self, num1, num2):\n",
    "        return num1 * num2\n",
    "\n",
    "    def div(self, num1, num2):\n",
    "        if num2 == 0:\n",
    "            return \"Cannot divide by zero\"\n",
    "        return num1 / num2\n",
    "\n",
    "\n",
    "if __name__ == \"__main__\":\n",
    "    basic_calc = BasicCalculator(1, \"Basic Calculator\")\n",
    "    \n",
    "    print(\"Addition:\", basic_calc.add(5, 3))\n",
    "    print(\"Subtraction:\", basic_calc.sub(5, 3))\n",
    "    print(\"Multiplication:\", basic_calc.mul(5, 3))\n",
    "    print(\"Division:\", basic_calc.div(5, 3))\n"
   ]
  },
  {
   "cell_type": "code",
   "execution_count": 110,
   "metadata": {},
   "outputs": [
    {
     "name": "stdout",
     "output_type": "stream",
     "text": [
      "Enter values for array 1:\n",
      "Enter values for array 1:\n",
      "Enter values for array 2:\n",
      "Enter values for array 2:\n",
      "Enter values for array 1:\n"
     ]
    },
    {
     "ename": "ValueError",
     "evalue": "invalid literal for int() with base 10: ''",
     "output_type": "error",
     "traceback": [
      "\u001b[0;31m---------------------------------------------------------------------------\u001b[0m",
      "\u001b[0;31mValueError\u001b[0m                                Traceback (most recent call last)",
      "Cell \u001b[0;32mIn[110], line 45\u001b[0m\n\u001b[1;32m     42\u001b[0m calc\u001b[38;5;241m.\u001b[39mgetArray()\n\u001b[1;32m     44\u001b[0m \u001b[38;5;28mprint\u001b[39m(\u001b[38;5;124m\"\u001b[39m\u001b[38;5;124mEnter values for array 2:\u001b[39m\u001b[38;5;124m\"\u001b[39m)\n\u001b[0;32m---> 45\u001b[0m \u001b[43mcalc\u001b[49m\u001b[38;5;241;43m.\u001b[39;49m\u001b[43mgetArray\u001b[49m\u001b[43m(\u001b[49m\u001b[43m)\u001b[49m\n\u001b[1;32m     47\u001b[0m calc\u001b[38;5;241m.\u001b[39maddArray()\n\u001b[1;32m     48\u001b[0m calc\u001b[38;5;241m.\u001b[39mdisplayArray()\n",
      "Cell \u001b[0;32mIn[110], line 12\u001b[0m, in \u001b[0;36mArrayCalculator.getArray\u001b[0;34m(self)\u001b[0m\n\u001b[1;32m      9\u001b[0m cols \u001b[38;5;241m=\u001b[39m \u001b[38;5;28mint\u001b[39m(\u001b[38;5;28minput\u001b[39m(\u001b[38;5;124m\"\u001b[39m\u001b[38;5;124mEnter the number of columns: \u001b[39m\u001b[38;5;124m\"\u001b[39m))\n\u001b[1;32m     11\u001b[0m \u001b[38;5;28mprint\u001b[39m(\u001b[38;5;124m\"\u001b[39m\u001b[38;5;124mEnter values for array 1:\u001b[39m\u001b[38;5;124m\"\u001b[39m)\n\u001b[0;32m---> 12\u001b[0m \u001b[38;5;28mself\u001b[39m\u001b[38;5;241m.\u001b[39marray1 \u001b[38;5;241m=\u001b[39m \u001b[38;5;28;43mself\u001b[39;49m\u001b[38;5;241;43m.\u001b[39;49m\u001b[43minputArray\u001b[49m\u001b[43m(\u001b[49m\u001b[43mrows\u001b[49m\u001b[43m,\u001b[49m\u001b[43m \u001b[49m\u001b[43mcols\u001b[49m\u001b[43m)\u001b[49m\n\u001b[1;32m     14\u001b[0m \u001b[38;5;28mprint\u001b[39m(\u001b[38;5;124m\"\u001b[39m\u001b[38;5;124mEnter values for array 2:\u001b[39m\u001b[38;5;124m\"\u001b[39m)\n\u001b[1;32m     15\u001b[0m \u001b[38;5;28mself\u001b[39m\u001b[38;5;241m.\u001b[39marray2 \u001b[38;5;241m=\u001b[39m \u001b[38;5;28mself\u001b[39m\u001b[38;5;241m.\u001b[39minputArray(rows, cols)\n",
      "Cell \u001b[0;32mIn[110], line 22\u001b[0m, in \u001b[0;36mArrayCalculator.inputArray\u001b[0;34m(self, rows, cols)\u001b[0m\n\u001b[1;32m     20\u001b[0m row \u001b[38;5;241m=\u001b[39m []\n\u001b[1;32m     21\u001b[0m \u001b[38;5;28;01mfor\u001b[39;00m j \u001b[38;5;129;01min\u001b[39;00m \u001b[38;5;28mrange\u001b[39m(cols):\n\u001b[0;32m---> 22\u001b[0m     val \u001b[38;5;241m=\u001b[39m \u001b[38;5;28;43mint\u001b[39;49m\u001b[43m(\u001b[49m\u001b[38;5;28;43minput\u001b[39;49m\u001b[43m(\u001b[49m\u001b[38;5;124;43mf\u001b[39;49m\u001b[38;5;124;43m\"\u001b[39;49m\u001b[38;5;124;43mEnter value at position (\u001b[39;49m\u001b[38;5;132;43;01m{\u001b[39;49;00m\u001b[43mi\u001b[49m\u001b[38;5;132;43;01m}\u001b[39;49;00m\u001b[38;5;124;43m,\u001b[39;49m\u001b[38;5;132;43;01m{\u001b[39;49;00m\u001b[43mj\u001b[49m\u001b[38;5;132;43;01m}\u001b[39;49;00m\u001b[38;5;124;43m): \u001b[39;49m\u001b[38;5;124;43m\"\u001b[39;49m\u001b[43m)\u001b[49m\u001b[43m)\u001b[49m\n\u001b[1;32m     23\u001b[0m     row\u001b[38;5;241m.\u001b[39mappend(val)\n\u001b[1;32m     24\u001b[0m array\u001b[38;5;241m.\u001b[39mappend(row)\n",
      "\u001b[0;31mValueError\u001b[0m: invalid literal for int() with base 10: ''"
     ]
    }
   ],
   "source": [
    "class ArrayCalculator:\n",
    "    def __init__(self):\n",
    "        self.array1 = []\n",
    "        self.array2 = []\n",
    "        self.result_array = []\n",
    "\n",
    "    def getArray(self):\n",
    "        rows = int(input(\"Enter the number of rows: \"))\n",
    "        cols = int(input(\"Enter the number of columns: \"))\n",
    "\n",
    "        print(\"Enter values for array 1:\")\n",
    "        self.array1 = self.inputArray(rows, cols)\n",
    "\n",
    "        print(\"Enter values for array 2:\")\n",
    "        self.array2 = self.inputArray(rows, cols)\n",
    "\n",
    "    def inputArray(self, rows, cols):\n",
    "        array = []\n",
    "        for i in range(rows):\n",
    "            row = []\n",
    "            for j in range(cols):\n",
    "                val = int(input(f\"Enter value at position ({i},{j}): \"))\n",
    "                row.append(val)\n",
    "            array.append(row)\n",
    "        return array\n",
    "\n",
    "    def addArray(self):\n",
    "        self.result_array = [\n",
    "            [self.array1[i][j] + self.array2[i][j] for j in range(len(self.array1[0]))]\n",
    "            for i in range(len(self.array1))\n",
    "        ]\n",
    "\n",
    "    def displayArray(self):\n",
    "        print(\"Resultant Array:\")\n",
    "        for row in self.result_array:\n",
    "            print(row)\n",
    "\n",
    "if __name__ == \"__main__\":\n",
    "    calc = ArrayCalculator()\n",
    "\n",
    "    print(\"Enter values for array 1:\")\n",
    "    calc.getArray()\n",
    "\n",
    "    print(\"Enter values for array 2:\")\n",
    "    calc.getArray()\n",
    "\n",
    "    calc.addArray()\n",
    "    calc.displayArray()\n"
   ]
  },
  {
   "cell_type": "code",
   "execution_count": 111,
   "metadata": {},
   "outputs": [
    {
     "name": "stdout",
     "output_type": "stream",
     "text": [
      "Menu:\n",
      "1. Addition\n",
      "2. Subtraction\n",
      "3. Multiplication\n",
      "4. Division\n",
      "Result: 7.0\n"
     ]
    }
   ],
   "source": [
    "class Calculator:\n",
    "    def addition(self, num1, num2):\n",
    "        return num1 + num2\n",
    "\n",
    "    def subtraction(self, num1, num2):\n",
    "        return num1 - num2\n",
    "\n",
    "    def multiplication(self, num1, num2):\n",
    "        return num1 * num2\n",
    "\n",
    "    def division(self, num1, num2):\n",
    "        if num2 == 0:\n",
    "            return \"Cannot divide by zero\"\n",
    "        return num1 / num2\n",
    "\n",
    "\n",
    "def main():\n",
    "    calc = Calculator()\n",
    "\n",
    "    print(\"Menu:\")\n",
    "    print(\"1. Addition\")\n",
    "    print(\"2. Subtraction\")\n",
    "    print(\"3. Multiplication\")\n",
    "    print(\"4. Division\")\n",
    "    choice = int(input(\"Enter your choice (1/2/3/4): \"))\n",
    "\n",
    "    num1 = float(input(\"Enter the first number: \"))\n",
    "    num2 = float(input(\"Enter the second number: \"))\n",
    "\n",
    "    if choice == 1:\n",
    "        result = calc.addition(num1, num2)\n",
    "        print(\"Result:\", result)\n",
    "    elif choice == 2:\n",
    "        result = calc.subtraction(num1, num2)\n",
    "        print(\"Result:\", result)\n",
    "    elif choice == 3:\n",
    "        result = calc.multiplication(num1, num2)\n",
    "        print(\"Result:\", result)\n",
    "    elif choice == 4:\n",
    "        result = calc.division(num1, num2)\n",
    "        print(\"Result:\", result)\n",
    "    else:\n",
    "        print(\"Invalid choice. Please enter a valid option.\")\n",
    "\n",
    "\n",
    "if __name__ == \"__main__\":\n",
    "    main()\n"
   ]
  }
 ],
 "metadata": {
  "kernelspec": {
   "display_name": "base",
   "language": "python",
   "name": "python3"
  },
  "language_info": {
   "codemirror_mode": {
    "name": "ipython",
    "version": 3
   },
   "file_extension": ".py",
   "mimetype": "text/x-python",
   "name": "python",
   "nbconvert_exporter": "python",
   "pygments_lexer": "ipython3",
   "version": "3.10.9"
  }
 },
 "nbformat": 4,
 "nbformat_minor": 2
}
